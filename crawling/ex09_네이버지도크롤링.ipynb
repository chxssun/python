{
 "cells": [
  {
   "cell_type": "code",
   "execution_count": 1,
   "metadata": {},
   "outputs": [],
   "source": [
    "# 라이브러리 불러오기\n",
    "# ChromeDriverManager, Service 라이브러리를 사용하여 \n",
    "# Chromedriver(컴퓨터용 크롬창) 를 관리\n",
    "from selenium.webdriver.chrome.service import Service\n",
    "from webdriver_manager.chrome import ChromeDriverManager\n",
    "\n",
    "from selenium import  webdriver as wb # 컴퓨터용 브라우저\n",
    "from selenium.webdriver.common.keys import Keys # 컴퓨터용 키보드\n",
    "from selenium.webdriver.common.by import By # 기준 -> 선택자 지정 방식\n",
    "\n",
    "import time # 딜레이할 라이브러리\n",
    "\n",
    "import pandas as pd # df만드는 라이브러리\n",
    "\n",
    "from bs4 import BeautifulSoup as bs \n",
    "\n",
    "import os # 파일 시스템 라이브러리 -> 폴더 생성\n",
    "from urllib.request import urlretrieve # 이미지처리 라이브러리 -> 수집한 경로(src) -> 이미지파일로 변경\n",
    "\n",
    "from tqdm import tqdm as tq  # 진행상황 시각화\n",
    "\n",
    "from urllib.error import HTTPError # 에러넘기기"
   ]
  },
  {
   "cell_type": "code",
   "execution_count": 14,
   "metadata": {},
   "outputs": [],
   "source": [
    "# 브라우저 열기\n",
    "s = Service(ChromeDriverManager().install()) \n",
    "driver = wb.Chrome(service=s)\n",
    "driver.get(\"https://map.naver.com/p?c=15.00,0,0,0,dh\")"
   ]
  },
  {
   "cell_type": "code",
   "execution_count": 18,
   "metadata": {},
   "outputs": [],
   "source": [
    "serch = driver.find_element(By.CLASS_NAME,'input_search')\n",
    "serch.send_keys(\"동명동 맛집\", Keys.ENTER)"
   ]
  },
  {
   "cell_type": "code",
   "execution_count": 20,
   "metadata": {},
   "outputs": [],
   "source": [
    "# 해당 iframe으로 접근\n",
    "driver.switch_to.default_content()\n",
    "driver.switch_to.frame('searchIframe')"
   ]
  },
  {
   "cell_type": "code",
   "execution_count": 23,
   "metadata": {},
   "outputs": [],
   "source": [
    "title = driver.find_elements(By.CSS_SELECTOR, 'span.place_bluelink.TYaxT')"
   ]
  },
  {
   "cell_type": "code",
   "execution_count": 24,
   "metadata": {},
   "outputs": [
    {
     "data": {
      "text/plain": [
       "'쭈꾸미잡스'"
      ]
     },
     "execution_count": 24,
     "metadata": {},
     "output_type": "execute_result"
    }
   ],
   "source": [
    "title[0].text"
   ]
  },
  {
   "cell_type": "code",
   "execution_count": 25,
   "metadata": {},
   "outputs": [
    {
     "name": "stdout",
     "output_type": "stream",
     "text": [
      "쭈꾸미잡스\n",
      "캬베츠\n",
      "레브\n",
      "목하식당\n",
      "싱푸미엔관 광주점\n",
      "사월의파랑\n",
      "오펜스커피\n",
      "송경솥밥\n",
      "원 나인스 텐드\n",
      "화조사\n"
     ]
    }
   ],
   "source": [
    "for i in title :\n",
    "    print(i.text)"
   ]
  },
  {
   "cell_type": "code",
   "execution_count": 27,
   "metadata": {},
   "outputs": [],
   "source": [
    "# iframe 스크롤 내리는 방법\n",
    "# 1. 드라이버에게 iframe위치 설정\n",
    "driver.switch_to.default_content() # 드라이버 위치 초기화\n",
    "driver.switch_to.frame('searchIframe') # 맛집 프레임 접근\n",
    "# 2. 화면이 분리되어 있기 때문에 내릴 영역을 선택\n",
    "div = driver.find_element(By.CSS_SELECTOR, 'div.Ryr1F')\n",
    "div.click()\n",
    "# 3. 스크롤 내리기\n",
    "for i in range(5) :\n",
    "    body = driver.find_element(By.CSS_SELECTOR, 'body')\n",
    "    body.send_keys(Keys.END)\n",
    "    time.sleep(1)"
   ]
  },
  {
   "cell_type": "code",
   "execution_count": null,
   "metadata": {},
   "outputs": [],
   "source": []
  },
  {
   "cell_type": "code",
   "execution_count": null,
   "metadata": {},
   "outputs": [],
   "source": []
  },
  {
   "cell_type": "code",
   "execution_count": null,
   "metadata": {},
   "outputs": [],
   "source": []
  },
  {
   "cell_type": "code",
   "execution_count": null,
   "metadata": {},
   "outputs": [],
   "source": []
  },
  {
   "cell_type": "code",
   "execution_count": null,
   "metadata": {},
   "outputs": [],
   "source": []
  },
  {
   "cell_type": "code",
   "execution_count": null,
   "metadata": {},
   "outputs": [],
   "source": []
  }
 ],
 "metadata": {
  "kernelspec": {
   "display_name": "Python 3",
   "language": "python",
   "name": "python3"
  },
  "language_info": {
   "codemirror_mode": {
    "name": "ipython",
    "version": 3
   },
   "file_extension": ".py",
   "mimetype": "text/x-python",
   "name": "python",
   "nbconvert_exporter": "python",
   "pygments_lexer": "ipython3",
   "version": "3.12.3"
  }
 },
 "nbformat": 4,
 "nbformat_minor": 2
}
