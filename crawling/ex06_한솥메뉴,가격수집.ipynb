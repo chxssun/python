{
 "cells": [
  {
   "cell_type": "code",
   "execution_count": 84,
   "metadata": {},
   "outputs": [],
   "source": [
    "# 라이브러리 불러오기\n",
    "# ChromeDriverManager, Service 라이브러리를 사용하여 \n",
    "# Chromedriver(컴퓨터용 크롬창) 를 관리\n",
    "from selenium.webdriver.chrome.service import Service\n",
    "from webdriver_manager.chrome import ChromeDriverManager\n",
    "\n",
    "from selenium import  webdriver as wb # 컴퓨터용 브라우저\n",
    "from selenium.webdriver.common.keys import Keys # 컴퓨터용 키보드\n",
    "from selenium.webdriver.common.by import By # 기준 -> 선택자 지정 방식\n",
    "\n",
    "import time # 딜레이할 라이브러리\n",
    "\n",
    "import pandas as pd # df만드는 라이브러리"
   ]
  },
  {
   "cell_type": "code",
   "execution_count": 112,
   "metadata": {},
   "outputs": [],
   "source": [
    "# 컴퓨터용 브라우저 열기\n",
    "s = Service(ChromeDriverManager().install())\n",
    "driver = wb.Chrome(service=s)"
   ]
  },
  {
   "cell_type": "code",
   "execution_count": 113,
   "metadata": {},
   "outputs": [],
   "source": [
    "# url 요청하기\n",
    "url = 'https://www.hsd.co.kr/menu/menu_list'\n",
    "driver.get(url)"
   ]
  },
  {
   "cell_type": "code",
   "execution_count": 14,
   "metadata": {},
   "outputs": [
    {
     "data": {
      "text/plain": [
       "'연잎 오리구이'"
      ]
     },
     "execution_count": 14,
     "metadata": {},
     "output_type": "execute_result"
    }
   ],
   "source": [
    "# 메뉴 이름 가져오기\n",
    "# 순수한 콘텐츠만 추출 -> .text\n",
    "driver.find_element(By.CLASS_NAME,'h.fz_03').text\n",
    "driver.find_element(By.CSS_SELECTOR,'#menuList_560 > div > div.item-text > h4').text\n",
    "\n",
    "#menuList_560 > div > div.item-text > h4\n",
    "#menuList_559 > div > div.item-text > h4\n",
    "#menuList_558 > div > div.item-text > h4\n",
    "#...\n",
    "#menuList_541 > div > div.item-text > h4"
   ]
  },
  {
   "cell_type": "code",
   "execution_count": 19,
   "metadata": {},
   "outputs": [
    {
     "data": {
      "text/plain": [
       "'7,700'"
      ]
     },
     "execution_count": 19,
     "metadata": {},
     "output_type": "execute_result"
    }
   ],
   "source": [
    "# 메뉴 가격 가져오기\n",
    "driver.find_element(By.CSS_SELECTOR,'div.item-price > strong').text\n",
    "\n",
    "#menuList_560 > div > div.item-text > div > strong\n",
    "#menuList_559 > div > div.item-text > div > strong\n",
    "#menuList_558 > div > div.item-text > div > strong"
   ]
  },
  {
   "cell_type": "code",
   "execution_count": 24,
   "metadata": {},
   "outputs": [],
   "source": [
    "# 한솥 메뉴페이지에 있는 모든 메뉴의 정보를 추출\n",
    "# 메뉴\n",
    "menu = driver.find_elements(By.CLASS_NAME,'h.fz_03')\n",
    "# 가격\n",
    "price = driver.find_elements(By.CSS_SELECTOR,'div.item-price > strong')"
   ]
  },
  {
   "cell_type": "code",
   "execution_count": 25,
   "metadata": {},
   "outputs": [
    {
     "data": {
      "text/plain": [
       "52"
      ]
     },
     "execution_count": 25,
     "metadata": {},
     "output_type": "execute_result"
    }
   ],
   "source": [
    "len(menu)"
   ]
  },
  {
   "cell_type": "code",
   "execution_count": null,
   "metadata": {},
   "outputs": [],
   "source": [
    "# 전체 메뉴를 수집하기 위해서 '더보기' 버튼을 클릭하여\n",
    "# 모든 메뉴를 화면에 출력되게 한 후 메뉴와 가격정보를 수집"
   ]
  },
  {
   "cell_type": "markdown",
   "metadata": {},
   "source": [
    "- 더보기 버튼 클릭"
   ]
  },
  {
   "cell_type": "code",
   "execution_count": 30,
   "metadata": {},
   "outputs": [],
   "source": [
    "# 더보기 버튼의 위치를 찾아서 driver에게 알려주기\n",
    "btn_more = driver.find_elements(By.CLASS_NAME,'c_05')\n",
    "# driver에게 클릭 요청하기\n",
    "btn_more[0].click()"
   ]
  },
  {
   "cell_type": "code",
   "execution_count": 31,
   "metadata": {},
   "outputs": [
    {
     "ename": "ElementNotInteractableException",
     "evalue": "Message: element not interactable\n  (Session info: chrome=127.0.6533.119)\nStacktrace:\n\tGetHandleVerifier [0x00448923+23283]\n\t(No symbol) [0x0040E934]\n\t(No symbol) [0x003405AD]\n\t(No symbol) [0x00384334]\n\t(No symbol) [0x003799EF]\n\t(No symbol) [0x003A441C]\n\t(No symbol) [0x00379485]\n\t(No symbol) [0x003A46B4]\n\t(No symbol) [0x003BCB8D]\n\t(No symbol) [0x003A41B6]\n\t(No symbol) [0x00378017]\n\t(No symbol) [0x0037890D]\n\tGetHandleVerifier [0x0053A5F3+1013699]\n\tGetHandleVerifier [0x00543E4C+1052700]\n\tGetHandleVerifier [0x0053D4B4+1025668]\n\tGetHandleVerifier [0x0046EA2B+179195]\n\t(No symbol) [0x00416833]\n\t(No symbol) [0x00413198]\n\t(No symbol) [0x00413337]\n\t(No symbol) [0x0040B4BE]\n\tBaseThreadInitThunk [0x763C7BA9+25]\n\tRtlInitializeExceptionChain [0x7705C10B+107]\n\tRtlClearBits [0x7705C08F+191]\n",
     "output_type": "error",
     "traceback": [
      "\u001b[1;31m---------------------------------------------------------------------------\u001b[0m",
      "\u001b[1;31mElementNotInteractableException\u001b[0m           Traceback (most recent call last)",
      "Cell \u001b[1;32mIn[31], line 4\u001b[0m\n\u001b[0;32m      2\u001b[0m \u001b[38;5;28;01mfor\u001b[39;00m i \u001b[38;5;129;01min\u001b[39;00m \u001b[38;5;28mrange\u001b[39m(\u001b[38;5;241m30\u001b[39m) :\n\u001b[0;32m      3\u001b[0m     btn_more \u001b[38;5;241m=\u001b[39m driver\u001b[38;5;241m.\u001b[39mfind_elements(By\u001b[38;5;241m.\u001b[39mCLASS_NAME,\u001b[38;5;124m'\u001b[39m\u001b[38;5;124mc_05\u001b[39m\u001b[38;5;124m'\u001b[39m)\n\u001b[1;32m----> 4\u001b[0m     \u001b[43mbtn_more\u001b[49m\u001b[43m[\u001b[49m\u001b[38;5;241;43m0\u001b[39;49m\u001b[43m]\u001b[49m\u001b[38;5;241;43m.\u001b[39;49m\u001b[43mclick\u001b[49m\u001b[43m(\u001b[49m\u001b[43m)\u001b[49m\n",
      "File \u001b[1;32mc:\\Users\\chxss\\AppData\\Local\\Programs\\Python\\Python312\\Lib\\site-packages\\selenium\\webdriver\\remote\\webelement.py:94\u001b[0m, in \u001b[0;36mWebElement.click\u001b[1;34m(self)\u001b[0m\n\u001b[0;32m     92\u001b[0m \u001b[38;5;28;01mdef\u001b[39;00m \u001b[38;5;21mclick\u001b[39m(\u001b[38;5;28mself\u001b[39m) \u001b[38;5;241m-\u001b[39m\u001b[38;5;241m>\u001b[39m \u001b[38;5;28;01mNone\u001b[39;00m:\n\u001b[0;32m     93\u001b[0m \u001b[38;5;250m    \u001b[39m\u001b[38;5;124;03m\"\"\"Clicks the element.\"\"\"\u001b[39;00m\n\u001b[1;32m---> 94\u001b[0m     \u001b[38;5;28;43mself\u001b[39;49m\u001b[38;5;241;43m.\u001b[39;49m\u001b[43m_execute\u001b[49m\u001b[43m(\u001b[49m\u001b[43mCommand\u001b[49m\u001b[38;5;241;43m.\u001b[39;49m\u001b[43mCLICK_ELEMENT\u001b[49m\u001b[43m)\u001b[49m\n",
      "File \u001b[1;32mc:\\Users\\chxss\\AppData\\Local\\Programs\\Python\\Python312\\Lib\\site-packages\\selenium\\webdriver\\remote\\webelement.py:395\u001b[0m, in \u001b[0;36mWebElement._execute\u001b[1;34m(self, command, params)\u001b[0m\n\u001b[0;32m    393\u001b[0m     params \u001b[38;5;241m=\u001b[39m {}\n\u001b[0;32m    394\u001b[0m params[\u001b[38;5;124m\"\u001b[39m\u001b[38;5;124mid\u001b[39m\u001b[38;5;124m\"\u001b[39m] \u001b[38;5;241m=\u001b[39m \u001b[38;5;28mself\u001b[39m\u001b[38;5;241m.\u001b[39m_id\n\u001b[1;32m--> 395\u001b[0m \u001b[38;5;28;01mreturn\u001b[39;00m \u001b[38;5;28;43mself\u001b[39;49m\u001b[38;5;241;43m.\u001b[39;49m\u001b[43m_parent\u001b[49m\u001b[38;5;241;43m.\u001b[39;49m\u001b[43mexecute\u001b[49m\u001b[43m(\u001b[49m\u001b[43mcommand\u001b[49m\u001b[43m,\u001b[49m\u001b[43m \u001b[49m\u001b[43mparams\u001b[49m\u001b[43m)\u001b[49m\n",
      "File \u001b[1;32mc:\\Users\\chxss\\AppData\\Local\\Programs\\Python\\Python312\\Lib\\site-packages\\selenium\\webdriver\\remote\\webdriver.py:354\u001b[0m, in \u001b[0;36mWebDriver.execute\u001b[1;34m(self, driver_command, params)\u001b[0m\n\u001b[0;32m    352\u001b[0m response \u001b[38;5;241m=\u001b[39m \u001b[38;5;28mself\u001b[39m\u001b[38;5;241m.\u001b[39mcommand_executor\u001b[38;5;241m.\u001b[39mexecute(driver_command, params)\n\u001b[0;32m    353\u001b[0m \u001b[38;5;28;01mif\u001b[39;00m response:\n\u001b[1;32m--> 354\u001b[0m     \u001b[38;5;28;43mself\u001b[39;49m\u001b[38;5;241;43m.\u001b[39;49m\u001b[43merror_handler\u001b[49m\u001b[38;5;241;43m.\u001b[39;49m\u001b[43mcheck_response\u001b[49m\u001b[43m(\u001b[49m\u001b[43mresponse\u001b[49m\u001b[43m)\u001b[49m\n\u001b[0;32m    355\u001b[0m     response[\u001b[38;5;124m\"\u001b[39m\u001b[38;5;124mvalue\u001b[39m\u001b[38;5;124m\"\u001b[39m] \u001b[38;5;241m=\u001b[39m \u001b[38;5;28mself\u001b[39m\u001b[38;5;241m.\u001b[39m_unwrap_value(response\u001b[38;5;241m.\u001b[39mget(\u001b[38;5;124m\"\u001b[39m\u001b[38;5;124mvalue\u001b[39m\u001b[38;5;124m\"\u001b[39m, \u001b[38;5;28;01mNone\u001b[39;00m))\n\u001b[0;32m    356\u001b[0m     \u001b[38;5;28;01mreturn\u001b[39;00m response\n",
      "File \u001b[1;32mc:\\Users\\chxss\\AppData\\Local\\Programs\\Python\\Python312\\Lib\\site-packages\\selenium\\webdriver\\remote\\errorhandler.py:229\u001b[0m, in \u001b[0;36mErrorHandler.check_response\u001b[1;34m(self, response)\u001b[0m\n\u001b[0;32m    227\u001b[0m         alert_text \u001b[38;5;241m=\u001b[39m value[\u001b[38;5;124m\"\u001b[39m\u001b[38;5;124malert\u001b[39m\u001b[38;5;124m\"\u001b[39m]\u001b[38;5;241m.\u001b[39mget(\u001b[38;5;124m\"\u001b[39m\u001b[38;5;124mtext\u001b[39m\u001b[38;5;124m\"\u001b[39m)\n\u001b[0;32m    228\u001b[0m     \u001b[38;5;28;01mraise\u001b[39;00m exception_class(message, screen, stacktrace, alert_text)  \u001b[38;5;66;03m# type: ignore[call-arg]  # mypy is not smart enough here\u001b[39;00m\n\u001b[1;32m--> 229\u001b[0m \u001b[38;5;28;01mraise\u001b[39;00m exception_class(message, screen, stacktrace)\n",
      "\u001b[1;31mElementNotInteractableException\u001b[0m: Message: element not interactable\n  (Session info: chrome=127.0.6533.119)\nStacktrace:\n\tGetHandleVerifier [0x00448923+23283]\n\t(No symbol) [0x0040E934]\n\t(No symbol) [0x003405AD]\n\t(No symbol) [0x00384334]\n\t(No symbol) [0x003799EF]\n\t(No symbol) [0x003A441C]\n\t(No symbol) [0x00379485]\n\t(No symbol) [0x003A46B4]\n\t(No symbol) [0x003BCB8D]\n\t(No symbol) [0x003A41B6]\n\t(No symbol) [0x00378017]\n\t(No symbol) [0x0037890D]\n\tGetHandleVerifier [0x0053A5F3+1013699]\n\tGetHandleVerifier [0x00543E4C+1052700]\n\tGetHandleVerifier [0x0053D4B4+1025668]\n\tGetHandleVerifier [0x0046EA2B+179195]\n\t(No symbol) [0x00416833]\n\t(No symbol) [0x00413198]\n\t(No symbol) [0x00413337]\n\t(No symbol) [0x0040B4BE]\n\tBaseThreadInitThunk [0x763C7BA9+25]\n\tRtlInitializeExceptionChain [0x7705C10B+107]\n\tRtlClearBits [0x7705C08F+191]\n"
     ]
    }
   ],
   "source": [
    "# 반복문을 활용하여 더보기 버튼 클릭하기!    \n",
    "# for i in range(30) :\n",
    "#     btn_more = driver.find_elements(By.CLASS_NAME,'c_05')\n",
    "#     btn_more[0].click()\n",
    "# 오류가 나는 이유\n",
    "# 30번의 반복문을 진행했을때 30개의 더보기 버튼이 없기 때문\n",
    "# 요소를 찾을수 없어서 출력되는 오류\n",
    "# 예외처리 try - except문 활용하여 해결"
   ]
  },
  {
   "cell_type": "markdown",
   "metadata": {},
   "source": [
    "- 예외처리\n",
    "- try - except문\n",
    "- 코드실행시 에러가 발생했을때 밑에 작성된 코드들은 실행이 되지 않는다\n",
    "- 에러가 났을 경우 멈추지 않고 다른 실행문장을 실행할 수 있도록 예외처리"
   ]
  },
  {
   "cell_type": "code",
   "execution_count": 33,
   "metadata": {},
   "outputs": [
    {
     "name": "stdout",
     "output_type": "stream",
     "text": [
      "클릭완료!\n"
     ]
    }
   ],
   "source": [
    "# # try\n",
    "# try :  # 에러가 나기 전까지 실행할 코드 작성    \n",
    "#     for i in range(30) :\n",
    "#         btn_more = driver.find_elements(By.CLASS_NAME,'c_05')\n",
    "#         btn_more[0].click()\n",
    "# except : # 에러가 났을 경우 실행할 코드를 작성\n",
    "#     print('클릭완료!')"
   ]
  },
  {
   "cell_type": "markdown",
   "metadata": {},
   "source": [
    "- 코딩 중간에 쉬는시간을 부여\n",
    "    - time.sleep(n)"
   ]
  },
  {
   "cell_type": "code",
   "execution_count": 114,
   "metadata": {},
   "outputs": [
    {
     "name": "stdout",
     "output_type": "stream",
     "text": [
      "클릭완료!\n"
     ]
    }
   ],
   "source": [
    "# try\n",
    "try :  # 에러가 나기 전까지 실행할 코드 작성    \n",
    "    for i in range(30) :\n",
    "        btn_more = driver.find_elements(By.CLASS_NAME,'c_05')\n",
    "        btn_more[0].click()\n",
    "        time.sleep(2)\n",
    "except : # 에러가 났을 경우 실행할 코드를 작성\n",
    "    print('클릭완료!')"
   ]
  },
  {
   "cell_type": "markdown",
   "metadata": {},
   "source": [
    "- 하나의 셀로 합쳐주기\n",
    "- 한번의 실행으로 시작부터 종료까지 진행"
   ]
  },
  {
   "cell_type": "code",
   "execution_count": 89,
   "metadata": {},
   "outputs": [
    {
     "name": "stdout",
     "output_type": "stream",
     "text": [
      "클릭완료!\n"
     ]
    }
   ],
   "source": [
    "# 컴퓨터용 브라우저 열기\n",
    "s = Service(ChromeDriverManager().install())\n",
    "driver = wb.Chrome(service=s)\n",
    "\n",
    "time.sleep(2)  # 로딩시간 주기\n",
    "\n",
    "# url 요청하기\n",
    "url = 'https://www.hsd.co.kr/menu/menu_list'\n",
    "driver.get(url)\n",
    "\n",
    "time.sleep(2)  # 로딩시간 주기\n",
    "\n",
    "# try  : 더보기 버튼 눌러서 모든메뉴 표시하기\n",
    "try :  # 에러가 나기 전까지 실행할 코드 작성    \n",
    "    for i in range(30) :\n",
    "        btn_more = driver.find_elements(By.CLASS_NAME,'c_05')\n",
    "        btn_more[0].click()\n",
    "        time.sleep(2)\n",
    "except : # 에러가 났을 경우 실행할 코드를 작성\n",
    "    print('클릭완료!')\n",
    "\n",
    "# 한솥 메뉴페이지에 있는 모든 메뉴의 정보를 추출\n",
    "# 메뉴\n",
    "menu = driver.find_elements(By.CLASS_NAME,'h.fz_03')\n",
    "# 가격\n",
    "price = driver.find_elements(By.CSS_SELECTOR,'div.item-price>strong')\n",
    "\n",
    "# menu_list = []\n",
    "# price_list = []\n",
    "# number = []\n",
    "\n",
    "# for i in range(len(menu)-1) :\n",
    "#     number.append(i+1)\n",
    "#     menu_list.append(menu[i].text)\n",
    "#     price_list.append(price[i].text)\n",
    "    \n",
    "# dic = {'순서':number ,'메뉴' : menu_list,'가격' : price_list}\n",
    "\n",
    "# han = pd.DataFrame(dic)\n",
    "\n",
    "# han.set_index('순서', inplace=True)\n",
    "\n",
    "# han.to_csv('한솥메뉴.csv', encoding='euc-kr')\n",
    "# menu_list, price_list 생성\n",
    "menu_list = []\n",
    "price_list = []\n",
    "# 순수한 콘텐츠만을 리스트에 담기\n",
    "for i in range(len(menu)) :\n",
    "    menu_list.append(menu[i].text)\n",
    "    price_list.append(price[i].text)\n",
    "# 딕셔너리 형태로 메뉴 : 메뉴리스트 / 가격 : 가격리스트\n",
    "dic = {'메뉴' : menu_list,'가격' : price_list}\n",
    "# DataFrame으로 만들기\n",
    "han = pd.DataFrame(dic)\n",
    "# 인덱스 자체를 바꾸기\n",
    "han.index += 1\n",
    "# csv파일로 내보내기(인코딩)\n",
    "han.to_csv('한솥메뉴.csv', encoding='euc-kr')\n",
    "\n",
    "driver.quit"
   ]
  },
  {
   "cell_type": "code",
   "execution_count": 117,
   "metadata": {},
   "outputs": [],
   "source": [
    "# csv 파일로 내보내기\n",
    "menu = driver.find_elements(By.CLASS_NAME,'h.fz_03')\n",
    "# 가격\n",
    "price = driver.find_elements(By.CSS_SELECTOR,'div.item-price>strong')\n",
    "# menu_list, price_list 생성\n",
    "menu_list = []\n",
    "price_list = []\n",
    "# 순수한 콘텐츠만을 리스트에 담기\n",
    "for i in range(len(menu)) :\n",
    "    menu_list.append(menu[i].text)\n",
    "    price_list.append(price[i].text)\n",
    "# 딕셔너리 형태로 메뉴 : 메뉴리스트 / 가격 : 가격리스트\n",
    "dic = {'메뉴' : menu_list,'가격' : price_list}\n",
    "# DataFrame으로 만들기\n",
    "han = pd.DataFrame(dic)\n",
    "# 인덱스 자체를 바꾸기\n",
    "han.index += 1\n",
    "# csv파일로 내보내기(인코딩)\n",
    "han.to_csv('한솥메뉴.csv', encoding='euc-kr')\n",
    "\n",
    "driver.quit"
   ]
  },
  {
   "cell_type": "code",
   "execution_count": 118,
   "metadata": {},
   "outputs": [
    {
     "data": {
      "text/html": [
       "<div>\n",
       "<style scoped>\n",
       "    .dataframe tbody tr th:only-of-type {\n",
       "        vertical-align: middle;\n",
       "    }\n",
       "\n",
       "    .dataframe tbody tr th {\n",
       "        vertical-align: top;\n",
       "    }\n",
       "\n",
       "    .dataframe thead th {\n",
       "        text-align: right;\n",
       "    }\n",
       "</style>\n",
       "<table border=\"1\" class=\"dataframe\">\n",
       "  <thead>\n",
       "    <tr style=\"text-align: right;\">\n",
       "      <th></th>\n",
       "      <th>메뉴</th>\n",
       "      <th>가격</th>\n",
       "    </tr>\n",
       "  </thead>\n",
       "  <tbody>\n",
       "    <tr>\n",
       "      <th>1</th>\n",
       "      <td>연잎 오리구이</td>\n",
       "      <td>7,700</td>\n",
       "    </tr>\n",
       "    <tr>\n",
       "      <th>2</th>\n",
       "      <td>열무 감초고추장 비빔밥</td>\n",
       "      <td>4,900</td>\n",
       "    </tr>\n",
       "    <tr>\n",
       "      <th>3</th>\n",
       "      <td>열무 두부강된장 비빔밥</td>\n",
       "      <td>5,200</td>\n",
       "    </tr>\n",
       "    <tr>\n",
       "      <th>4</th>\n",
       "      <td>열무 비빔면</td>\n",
       "      <td>3,900</td>\n",
       "    </tr>\n",
       "    <tr>\n",
       "      <th>5</th>\n",
       "      <td>마라치킨 덮밥</td>\n",
       "      <td>4,900</td>\n",
       "    </tr>\n",
       "    <tr>\n",
       "      <th>...</th>\n",
       "      <td>...</td>\n",
       "      <td>...</td>\n",
       "    </tr>\n",
       "    <tr>\n",
       "      <th>110</th>\n",
       "      <td>김치</td>\n",
       "      <td>400</td>\n",
       "    </tr>\n",
       "    <tr>\n",
       "      <th>111</th>\n",
       "      <td>무말랭이 무침</td>\n",
       "      <td>500</td>\n",
       "    </tr>\n",
       "    <tr>\n",
       "      <th>112</th>\n",
       "      <td>한솥밥</td>\n",
       "      <td>1,000</td>\n",
       "    </tr>\n",
       "    <tr>\n",
       "      <th>113</th>\n",
       "      <td>현미밥</td>\n",
       "      <td>1,700</td>\n",
       "    </tr>\n",
       "    <tr>\n",
       "      <th>114</th>\n",
       "      <td>리얼꿀 미니호떡</td>\n",
       "      <td>2,200</td>\n",
       "    </tr>\n",
       "  </tbody>\n",
       "</table>\n",
       "<p>114 rows × 2 columns</p>\n",
       "</div>"
      ],
      "text/plain": [
       "               메뉴     가격\n",
       "1         연잎 오리구이  7,700\n",
       "2    열무 감초고추장 비빔밥  4,900\n",
       "3    열무 두부강된장 비빔밥  5,200\n",
       "4          열무 비빔면  3,900\n",
       "5         마라치킨 덮밥  4,900\n",
       "..            ...    ...\n",
       "110            김치    400\n",
       "111       무말랭이 무침    500\n",
       "112           한솥밥  1,000\n",
       "113           현미밥  1,700\n",
       "114      리얼꿀 미니호떡  2,200\n",
       "\n",
       "[114 rows x 2 columns]"
      ]
     },
     "execution_count": 118,
     "metadata": {},
     "output_type": "execute_result"
    }
   ],
   "source": [
    "han"
   ]
  },
  {
   "cell_type": "code",
   "execution_count": null,
   "metadata": {},
   "outputs": [],
   "source": []
  },
  {
   "cell_type": "code",
   "execution_count": null,
   "metadata": {},
   "outputs": [],
   "source": []
  },
  {
   "cell_type": "code",
   "execution_count": null,
   "metadata": {},
   "outputs": [],
   "source": []
  },
  {
   "cell_type": "code",
   "execution_count": null,
   "metadata": {},
   "outputs": [],
   "source": []
  }
 ],
 "metadata": {
  "kernelspec": {
   "display_name": "Python 3",
   "language": "python",
   "name": "python3"
  },
  "language_info": {
   "codemirror_mode": {
    "name": "ipython",
    "version": 3
   },
   "file_extension": ".py",
   "mimetype": "text/x-python",
   "name": "python",
   "nbconvert_exporter": "python",
   "pygments_lexer": "ipython3",
   "version": "3.12.3"
  }
 },
 "nbformat": 4,
 "nbformat_minor": 2
}
