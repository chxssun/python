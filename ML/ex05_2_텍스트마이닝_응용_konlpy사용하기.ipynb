{
  "nbformat": 4,
  "nbformat_minor": 0,
  "metadata": {
    "colab": {
      "provenance": []
    },
    "kernelspec": {
      "name": "python3",
      "display_name": "Python 3"
    },
    "language_info": {
      "name": "python"
    }
  },
  "cells": [
    {
      "cell_type": "markdown",
      "source": [
        "#### 데이터 로딩"
      ],
      "metadata": {
        "id": "zFWVCIx7LmkK"
      }
    },
    {
      "cell_type": "code",
      "execution_count": null,
      "metadata": {
        "id": "wzsOSBkLJnIx"
      },
      "outputs": [],
      "source": [
        "# 왼쪽의 파일 버튼 클릭 후 -> train/test 문장 데이터 업로드"
      ]
    },
    {
      "cell_type": "code",
      "source": [
        "# 데이터 로딩\n",
        "import pandas as pd"
      ],
      "metadata": {
        "id": "L4s7rTp-K5Zu"
      },
      "execution_count": 20,
      "outputs": []
    },
    {
      "cell_type": "code",
      "source": [
        "train_text = pd.read_csv('./train_origin_text.csv')\n",
        "test_text = pd.read_csv('./test_origin_text.csv')"
      ],
      "metadata": {
        "id": "XVdJ6VswK6JT"
      },
      "execution_count": 34,
      "outputs": []
    },
    {
      "cell_type": "code",
      "source": [
        "train_text.head()"
      ],
      "metadata": {
        "colab": {
          "base_uri": "https://localhost:8080/",
          "height": 206
        },
        "id": "cI_XgrR9K6PZ",
        "outputId": "632ea0bf-e904-4a0e-d61d-ab5c8cbd7c5c"
      },
      "execution_count": 4,
      "outputs": [
        {
          "output_type": "execute_result",
          "data": {
            "text/plain": [
              "                                                  문장\n",
              "0                             일안하는 시간은 쉬고싶어서 그런게 아닐까\n",
              "1  아동성범죄와 페도버는 기록바 끊어져 영원히 고통 받는다. 무슬림 50퍼 근친이다. ...\n",
              "2  루나 솔로앨범 나왔을 때부터 머모 기운 있었음 ㅇㅇ Keep o  doin 진짜 띵...\n",
              "3  홍팍에도 어버이연합인가 보내요 뭐 이런뎃글 있는데 이거 어버이연합측에 신고하면 그쪽...\n",
              "4  아놔 왜 여기 댓들은 다 여자들이 김치녀라고 먼저 불렸다! 여자들은 더 심하게 그런..."
            ],
            "text/html": [
              "\n",
              "  <div id=\"df-5a8b4ddb-5b53-46a5-8f86-56cecc6339b3\" class=\"colab-df-container\">\n",
              "    <div>\n",
              "<style scoped>\n",
              "    .dataframe tbody tr th:only-of-type {\n",
              "        vertical-align: middle;\n",
              "    }\n",
              "\n",
              "    .dataframe tbody tr th {\n",
              "        vertical-align: top;\n",
              "    }\n",
              "\n",
              "    .dataframe thead th {\n",
              "        text-align: right;\n",
              "    }\n",
              "</style>\n",
              "<table border=\"1\" class=\"dataframe\">\n",
              "  <thead>\n",
              "    <tr style=\"text-align: right;\">\n",
              "      <th></th>\n",
              "      <th>문장</th>\n",
              "    </tr>\n",
              "  </thead>\n",
              "  <tbody>\n",
              "    <tr>\n",
              "      <th>0</th>\n",
              "      <td>일안하는 시간은 쉬고싶어서 그런게 아닐까</td>\n",
              "    </tr>\n",
              "    <tr>\n",
              "      <th>1</th>\n",
              "      <td>아동성범죄와 페도버는 기록바 끊어져 영원히 고통 받는다. 무슬림 50퍼 근친이다. ...</td>\n",
              "    </tr>\n",
              "    <tr>\n",
              "      <th>2</th>\n",
              "      <td>루나 솔로앨범 나왔을 때부터 머모 기운 있었음 ㅇㅇ Keep o  doin 진짜 띵...</td>\n",
              "    </tr>\n",
              "    <tr>\n",
              "      <th>3</th>\n",
              "      <td>홍팍에도 어버이연합인가 보내요 뭐 이런뎃글 있는데 이거 어버이연합측에 신고하면 그쪽...</td>\n",
              "    </tr>\n",
              "    <tr>\n",
              "      <th>4</th>\n",
              "      <td>아놔 왜 여기 댓들은 다 여자들이 김치녀라고 먼저 불렸다! 여자들은 더 심하게 그런...</td>\n",
              "    </tr>\n",
              "  </tbody>\n",
              "</table>\n",
              "</div>\n",
              "    <div class=\"colab-df-buttons\">\n",
              "\n",
              "  <div class=\"colab-df-container\">\n",
              "    <button class=\"colab-df-convert\" onclick=\"convertToInteractive('df-5a8b4ddb-5b53-46a5-8f86-56cecc6339b3')\"\n",
              "            title=\"Convert this dataframe to an interactive table.\"\n",
              "            style=\"display:none;\">\n",
              "\n",
              "  <svg xmlns=\"http://www.w3.org/2000/svg\" height=\"24px\" viewBox=\"0 -960 960 960\">\n",
              "    <path d=\"M120-120v-720h720v720H120Zm60-500h600v-160H180v160Zm220 220h160v-160H400v160Zm0 220h160v-160H400v160ZM180-400h160v-160H180v160Zm440 0h160v-160H620v160ZM180-180h160v-160H180v160Zm440 0h160v-160H620v160Z\"/>\n",
              "  </svg>\n",
              "    </button>\n",
              "\n",
              "  <style>\n",
              "    .colab-df-container {\n",
              "      display:flex;\n",
              "      gap: 12px;\n",
              "    }\n",
              "\n",
              "    .colab-df-convert {\n",
              "      background-color: #E8F0FE;\n",
              "      border: none;\n",
              "      border-radius: 50%;\n",
              "      cursor: pointer;\n",
              "      display: none;\n",
              "      fill: #1967D2;\n",
              "      height: 32px;\n",
              "      padding: 0 0 0 0;\n",
              "      width: 32px;\n",
              "    }\n",
              "\n",
              "    .colab-df-convert:hover {\n",
              "      background-color: #E2EBFA;\n",
              "      box-shadow: 0px 1px 2px rgba(60, 64, 67, 0.3), 0px 1px 3px 1px rgba(60, 64, 67, 0.15);\n",
              "      fill: #174EA6;\n",
              "    }\n",
              "\n",
              "    .colab-df-buttons div {\n",
              "      margin-bottom: 4px;\n",
              "    }\n",
              "\n",
              "    [theme=dark] .colab-df-convert {\n",
              "      background-color: #3B4455;\n",
              "      fill: #D2E3FC;\n",
              "    }\n",
              "\n",
              "    [theme=dark] .colab-df-convert:hover {\n",
              "      background-color: #434B5C;\n",
              "      box-shadow: 0px 1px 3px 1px rgba(0, 0, 0, 0.15);\n",
              "      filter: drop-shadow(0px 1px 2px rgba(0, 0, 0, 0.3));\n",
              "      fill: #FFFFFF;\n",
              "    }\n",
              "  </style>\n",
              "\n",
              "    <script>\n",
              "      const buttonEl =\n",
              "        document.querySelector('#df-5a8b4ddb-5b53-46a5-8f86-56cecc6339b3 button.colab-df-convert');\n",
              "      buttonEl.style.display =\n",
              "        google.colab.kernel.accessAllowed ? 'block' : 'none';\n",
              "\n",
              "      async function convertToInteractive(key) {\n",
              "        const element = document.querySelector('#df-5a8b4ddb-5b53-46a5-8f86-56cecc6339b3');\n",
              "        const dataTable =\n",
              "          await google.colab.kernel.invokeFunction('convertToInteractive',\n",
              "                                                    [key], {});\n",
              "        if (!dataTable) return;\n",
              "\n",
              "        const docLinkHtml = 'Like what you see? Visit the ' +\n",
              "          '<a target=\"_blank\" href=https://colab.research.google.com/notebooks/data_table.ipynb>data table notebook</a>'\n",
              "          + ' to learn more about interactive tables.';\n",
              "        element.innerHTML = '';\n",
              "        dataTable['output_type'] = 'display_data';\n",
              "        await google.colab.output.renderOutput(dataTable, element);\n",
              "        const docLink = document.createElement('div');\n",
              "        docLink.innerHTML = docLinkHtml;\n",
              "        element.appendChild(docLink);\n",
              "      }\n",
              "    </script>\n",
              "  </div>\n",
              "\n",
              "\n",
              "<div id=\"df-5958ee9e-88f5-4dee-85ce-6846d790b34d\">\n",
              "  <button class=\"colab-df-quickchart\" onclick=\"quickchart('df-5958ee9e-88f5-4dee-85ce-6846d790b34d')\"\n",
              "            title=\"Suggest charts\"\n",
              "            style=\"display:none;\">\n",
              "\n",
              "<svg xmlns=\"http://www.w3.org/2000/svg\" height=\"24px\"viewBox=\"0 0 24 24\"\n",
              "     width=\"24px\">\n",
              "    <g>\n",
              "        <path d=\"M19 3H5c-1.1 0-2 .9-2 2v14c0 1.1.9 2 2 2h14c1.1 0 2-.9 2-2V5c0-1.1-.9-2-2-2zM9 17H7v-7h2v7zm4 0h-2V7h2v10zm4 0h-2v-4h2v4z\"/>\n",
              "    </g>\n",
              "</svg>\n",
              "  </button>\n",
              "\n",
              "<style>\n",
              "  .colab-df-quickchart {\n",
              "      --bg-color: #E8F0FE;\n",
              "      --fill-color: #1967D2;\n",
              "      --hover-bg-color: #E2EBFA;\n",
              "      --hover-fill-color: #174EA6;\n",
              "      --disabled-fill-color: #AAA;\n",
              "      --disabled-bg-color: #DDD;\n",
              "  }\n",
              "\n",
              "  [theme=dark] .colab-df-quickchart {\n",
              "      --bg-color: #3B4455;\n",
              "      --fill-color: #D2E3FC;\n",
              "      --hover-bg-color: #434B5C;\n",
              "      --hover-fill-color: #FFFFFF;\n",
              "      --disabled-bg-color: #3B4455;\n",
              "      --disabled-fill-color: #666;\n",
              "  }\n",
              "\n",
              "  .colab-df-quickchart {\n",
              "    background-color: var(--bg-color);\n",
              "    border: none;\n",
              "    border-radius: 50%;\n",
              "    cursor: pointer;\n",
              "    display: none;\n",
              "    fill: var(--fill-color);\n",
              "    height: 32px;\n",
              "    padding: 0;\n",
              "    width: 32px;\n",
              "  }\n",
              "\n",
              "  .colab-df-quickchart:hover {\n",
              "    background-color: var(--hover-bg-color);\n",
              "    box-shadow: 0 1px 2px rgba(60, 64, 67, 0.3), 0 1px 3px 1px rgba(60, 64, 67, 0.15);\n",
              "    fill: var(--button-hover-fill-color);\n",
              "  }\n",
              "\n",
              "  .colab-df-quickchart-complete:disabled,\n",
              "  .colab-df-quickchart-complete:disabled:hover {\n",
              "    background-color: var(--disabled-bg-color);\n",
              "    fill: var(--disabled-fill-color);\n",
              "    box-shadow: none;\n",
              "  }\n",
              "\n",
              "  .colab-df-spinner {\n",
              "    border: 2px solid var(--fill-color);\n",
              "    border-color: transparent;\n",
              "    border-bottom-color: var(--fill-color);\n",
              "    animation:\n",
              "      spin 1s steps(1) infinite;\n",
              "  }\n",
              "\n",
              "  @keyframes spin {\n",
              "    0% {\n",
              "      border-color: transparent;\n",
              "      border-bottom-color: var(--fill-color);\n",
              "      border-left-color: var(--fill-color);\n",
              "    }\n",
              "    20% {\n",
              "      border-color: transparent;\n",
              "      border-left-color: var(--fill-color);\n",
              "      border-top-color: var(--fill-color);\n",
              "    }\n",
              "    30% {\n",
              "      border-color: transparent;\n",
              "      border-left-color: var(--fill-color);\n",
              "      border-top-color: var(--fill-color);\n",
              "      border-right-color: var(--fill-color);\n",
              "    }\n",
              "    40% {\n",
              "      border-color: transparent;\n",
              "      border-right-color: var(--fill-color);\n",
              "      border-top-color: var(--fill-color);\n",
              "    }\n",
              "    60% {\n",
              "      border-color: transparent;\n",
              "      border-right-color: var(--fill-color);\n",
              "    }\n",
              "    80% {\n",
              "      border-color: transparent;\n",
              "      border-right-color: var(--fill-color);\n",
              "      border-bottom-color: var(--fill-color);\n",
              "    }\n",
              "    90% {\n",
              "      border-color: transparent;\n",
              "      border-bottom-color: var(--fill-color);\n",
              "    }\n",
              "  }\n",
              "</style>\n",
              "\n",
              "  <script>\n",
              "    async function quickchart(key) {\n",
              "      const quickchartButtonEl =\n",
              "        document.querySelector('#' + key + ' button');\n",
              "      quickchartButtonEl.disabled = true;  // To prevent multiple clicks.\n",
              "      quickchartButtonEl.classList.add('colab-df-spinner');\n",
              "      try {\n",
              "        const charts = await google.colab.kernel.invokeFunction(\n",
              "            'suggestCharts', [key], {});\n",
              "      } catch (error) {\n",
              "        console.error('Error during call to suggestCharts:', error);\n",
              "      }\n",
              "      quickchartButtonEl.classList.remove('colab-df-spinner');\n",
              "      quickchartButtonEl.classList.add('colab-df-quickchart-complete');\n",
              "    }\n",
              "    (() => {\n",
              "      let quickchartButtonEl =\n",
              "        document.querySelector('#df-5958ee9e-88f5-4dee-85ce-6846d790b34d button');\n",
              "      quickchartButtonEl.style.display =\n",
              "        google.colab.kernel.accessAllowed ? 'block' : 'none';\n",
              "    })();\n",
              "  </script>\n",
              "</div>\n",
              "\n",
              "    </div>\n",
              "  </div>\n"
            ],
            "application/vnd.google.colaboratory.intrinsic+json": {
              "type": "dataframe",
              "variable_name": "train_text",
              "summary": "{\n  \"name\": \"train_text\",\n  \"rows\": 15005,\n  \"fields\": [\n    {\n      \"column\": \"\\ubb38\\uc7a5\",\n      \"properties\": {\n        \"dtype\": \"string\",\n        \"num_unique_values\": 15004,\n        \"samples\": [\n          \"\\ub355\\ub2f4\\ubc30\\ud2c0\\uc5d0 \\ub9c8\\uc74c\\uc774 \\ud761\\uc871\\ud558\\ub178\",\n          \"\\ub3d9\\uc131\\uc560\\ub294 \\uc778\\uad8c\\uc774 \\uc544\\ub2cc\\uac8c \\uc801\\ub098\\ub77c\\ud558\\uac8c \\ub4dc\\ub7ec\\ub098\\ub294\\uac83 \\uac19\\ub124\\uc694 \\u315c\\u315c\\u315c \\uc778\\uad8c\\uc774 \\uc544\\ub2c8\\ub77c \\uac1c\\uc778\\uc758 \\uc131\\uc801 \\ucf8c\\ub77d\\ub9cc \\ucd94\\uad6c\\ud558\\ub294 \\ub3d9\\uc131\\uc560 \\uc808\\ub300 \\ubc18\\ub300\\uc785\\ub2c8\\ub2e4 \\u3160\",\n          \"\\uc624\\ub298\\ub530\\ub77c \\uac1c\\u3146\\u314e\\u314c\\u314a \\ub625\\ub0d0\\ub4e4 \\uc65c\\uc774\\ub807\\uac8c \\ubc1c\\uc791\\ub4e4\\uc774\\ub178\"\n        ],\n        \"semantic_type\": \"\",\n        \"description\": \"\"\n      }\n    }\n  ]\n}"
            }
          },
          "metadata": {},
          "execution_count": 4
        }
      ]
    },
    {
      "cell_type": "markdown",
      "source": [
        "#### 형태소 분석기 활용"
      ],
      "metadata": {
        "id": "fQSb9q74Ltaq"
      }
    },
    {
      "cell_type": "code",
      "source": [
        "# konlpy설치\n",
        "!pip install konlpy"
      ],
      "metadata": {
        "colab": {
          "base_uri": "https://localhost:8080/"
        },
        "id": "0ci0aG92K6Xf",
        "outputId": "0f7ae998-51ed-4a00-eb34-223cb8fb36fb"
      },
      "execution_count": 5,
      "outputs": [
        {
          "output_type": "stream",
          "name": "stdout",
          "text": [
            "Collecting konlpy\n",
            "  Downloading konlpy-0.6.0-py2.py3-none-any.whl.metadata (1.9 kB)\n",
            "Collecting JPype1>=0.7.0 (from konlpy)\n",
            "  Downloading JPype1-1.5.0-cp310-cp310-manylinux_2_17_x86_64.manylinux2014_x86_64.whl.metadata (4.9 kB)\n",
            "Requirement already satisfied: lxml>=4.1.0 in /usr/local/lib/python3.10/dist-packages (from konlpy) (4.9.4)\n",
            "Requirement already satisfied: numpy>=1.6 in /usr/local/lib/python3.10/dist-packages (from konlpy) (1.26.4)\n",
            "Requirement already satisfied: packaging in /usr/local/lib/python3.10/dist-packages (from JPype1>=0.7.0->konlpy) (24.1)\n",
            "Downloading konlpy-0.6.0-py2.py3-none-any.whl (19.4 MB)\n",
            "\u001b[2K   \u001b[90m━━━━━━━━━━━━━━━━━━━━━━━━━━━━━━━━━━━━━━━━\u001b[0m \u001b[32m19.4/19.4 MB\u001b[0m \u001b[31m46.1 MB/s\u001b[0m eta \u001b[36m0:00:00\u001b[0m\n",
            "\u001b[?25hDownloading JPype1-1.5.0-cp310-cp310-manylinux_2_17_x86_64.manylinux2014_x86_64.whl (488 kB)\n",
            "\u001b[2K   \u001b[90m━━━━━━━━━━━━━━━━━━━━━━━━━━━━━━━━━━━━━━━━\u001b[0m \u001b[32m488.6/488.6 kB\u001b[0m \u001b[31m25.5 MB/s\u001b[0m eta \u001b[36m0:00:00\u001b[0m\n",
            "\u001b[?25hInstalling collected packages: JPype1, konlpy\n",
            "Successfully installed JPype1-1.5.0 konlpy-0.6.0\n"
          ]
        }
      ]
    },
    {
      "cell_type": "code",
      "source": [
        "# mecab을 위한 설치\n",
        "!git clone https://github.com/SOMJANG/Mecab-ko-for-Google-Colab.git"
      ],
      "metadata": {
        "colab": {
          "base_uri": "https://localhost:8080/"
        },
        "id": "kTG99m1NSXal",
        "outputId": "4d7044a6-ba71-4879-b5ae-21cf47189a6a"
      },
      "execution_count": 19,
      "outputs": [
        {
          "output_type": "stream",
          "name": "stdout",
          "text": [
            "Cloning into 'Mecab-ko-for-Google-Colab'...\n",
            "remote: Enumerating objects: 138, done.\u001b[K\n",
            "remote: Counting objects: 100% (47/47), done.\u001b[K\n",
            "remote: Compressing objects: 100% (38/38), done.\u001b[K\n",
            "remote: Total 138 (delta 26), reused 22 (delta 8), pack-reused 91 (from 1)\u001b[K\n",
            "Receiving objects: 100% (138/138), 1.72 MiB | 17.92 MiB/s, done.\n",
            "Resolving deltas: 100% (65/65), done.\n"
          ]
        }
      ]
    },
    {
      "cell_type": "code",
      "source": [
        "%cd Mecab-ko-for-Google-Colab"
      ],
      "metadata": {
        "colab": {
          "base_uri": "https://localhost:8080/"
        },
        "id": "TBpvT1qESxE1",
        "outputId": "67d2878a-bd9b-4829-a8e1-244d7d66ef49"
      },
      "execution_count": 4,
      "outputs": [
        {
          "output_type": "stream",
          "name": "stdout",
          "text": [
            "/content/Mecab-ko-for-Google-Colab\n"
          ]
        }
      ]
    },
    {
      "cell_type": "code",
      "source": [
        "!bash install_mecab-ko_on_colab_light_220429.sh"
      ],
      "metadata": {
        "id": "Wl7_1cUMS3J7"
      },
      "execution_count": null,
      "outputs": []
    },
    {
      "cell_type": "code",
      "source": [],
      "metadata": {
        "id": "Nwb1DBkATB50"
      },
      "execution_count": null,
      "outputs": []
    },
    {
      "cell_type": "code",
      "source": [
        "from konlpy.tag import Okt,Kkma, Mecab"
      ],
      "metadata": {
        "id": "rZP2ThumLcac"
      },
      "execution_count": 22,
      "outputs": []
    },
    {
      "cell_type": "code",
      "source": [
        "okt = Okt() # 트위터 기반으로 시작된 형태소 분석기 -> 비교적 신조어 분리에 강함\n",
        "kkma = Kkma() # 속도는 느림, 품사태깅이 디테일하다\n",
        "mecab = Mecab() # 처리 속도가 빠르다"
      ],
      "metadata": {
        "id": "U2pK93LDLcnK"
      },
      "execution_count": 23,
      "outputs": []
    },
    {
      "cell_type": "code",
      "source": [
        "# 형태소 분리\n",
        "okt.morphs('아버지가 방에 들어가신다')"
      ],
      "metadata": {
        "colab": {
          "base_uri": "https://localhost:8080/"
        },
        "id": "4mNqVMOELcv-",
        "outputId": "313d2e58-dd71-42cb-d101-1c21e975b2a4"
      },
      "execution_count": 8,
      "outputs": [
        {
          "output_type": "execute_result",
          "data": {
            "text/plain": [
              "['아버지', '가', '방', '에', '들어가신다']"
            ]
          },
          "metadata": {},
          "execution_count": 8
        }
      ]
    },
    {
      "cell_type": "code",
      "source": [
        "kkma.morphs('아버지가 방에 들어가신다')"
      ],
      "metadata": {
        "colab": {
          "base_uri": "https://localhost:8080/"
        },
        "id": "d4MefCO4LdDc",
        "outputId": "b3cb4b6a-951e-4fe0-e946-cea8e8d1694e"
      },
      "execution_count": 10,
      "outputs": [
        {
          "output_type": "execute_result",
          "data": {
            "text/plain": [
              "['아버지', '가', '방', '에', '들어가', '시', 'ㄴ다']"
            ]
          },
          "metadata": {},
          "execution_count": 10
        }
      ]
    },
    {
      "cell_type": "code",
      "source": [
        "# 형태소 분리 및 품사 부착\n",
        "okt.pos('아버지가 방에 들어가신다')"
      ],
      "metadata": {
        "colab": {
          "base_uri": "https://localhost:8080/"
        },
        "id": "JgLZxpkyLdMZ",
        "outputId": "50641382-6721-4078-907a-51ce1503aadc"
      },
      "execution_count": 12,
      "outputs": [
        {
          "output_type": "execute_result",
          "data": {
            "text/plain": [
              "[('아버지', 'Noun'),\n",
              " ('가', 'Josa'),\n",
              " ('방', 'Noun'),\n",
              " ('에', 'Josa'),\n",
              " ('들어가신다', 'Verb')]"
            ]
          },
          "metadata": {},
          "execution_count": 12
        }
      ]
    },
    {
      "cell_type": "code",
      "source": [
        "kkma.pos('아버지가 방에 들어가신다')"
      ],
      "metadata": {
        "colab": {
          "base_uri": "https://localhost:8080/"
        },
        "id": "l308BPaZLdd7",
        "outputId": "a404fffd-21f2-4ebe-d691-404e52b52ed9"
      },
      "execution_count": 13,
      "outputs": [
        {
          "output_type": "execute_result",
          "data": {
            "text/plain": [
              "[('아버지', 'NNG'),\n",
              " ('가', 'JKS'),\n",
              " ('방', 'NNG'),\n",
              " ('에', 'JKM'),\n",
              " ('들어가', 'VV'),\n",
              " ('시', 'EPH'),\n",
              " ('ㄴ다', 'EFN')]"
            ]
          },
          "metadata": {},
          "execution_count": 13
        }
      ]
    },
    {
      "cell_type": "code",
      "source": [
        "# 태그셋 확인\n",
        "display(okt.tagset)\n",
        "display(kkma.tagset)"
      ],
      "metadata": {
        "id": "2CkDv5WoLdkh"
      },
      "execution_count": null,
      "outputs": []
    },
    {
      "cell_type": "code",
      "source": [
        "# okt의 토큰 정규화 및 어근추출\n",
        "okt.pos('어제는 저녁을 맛있게 먹었다 ㅋㅋㅋ', norm=True, stem=True)"
      ],
      "metadata": {
        "colab": {
          "base_uri": "https://localhost:8080/"
        },
        "id": "Ky0VFg4mLdpC",
        "outputId": "4d5d2f5a-a028-4ec9-e0ef-9cd5cc408e77"
      },
      "execution_count": 17,
      "outputs": [
        {
          "output_type": "execute_result",
          "data": {
            "text/plain": [
              "[('어제', 'Noun'),\n",
              " ('는', 'Josa'),\n",
              " ('저녁', 'Noun'),\n",
              " ('을', 'Josa'),\n",
              " ('맛있다', 'Adjective'),\n",
              " ('먹다', 'Verb'),\n",
              " ('ㅋㅋㅋ', 'KoreanParticle')]"
            ]
          },
          "metadata": {},
          "execution_count": 17
        }
      ]
    },
    {
      "cell_type": "code",
      "source": [
        "okt.pos('아버지가 방에 들어가신다',stem=True)"
      ],
      "metadata": {
        "colab": {
          "base_uri": "https://localhost:8080/"
        },
        "id": "BUYRnk5pLdsb",
        "outputId": "a35d4726-5f34-43ac-96e3-0c570cc62c6b"
      },
      "execution_count": 18,
      "outputs": [
        {
          "output_type": "execute_result",
          "data": {
            "text/plain": [
              "[('아버지', 'Noun'),\n",
              " ('가', 'Josa'),\n",
              " ('방', 'Noun'),\n",
              " ('에', 'Josa'),\n",
              " ('들어가다', 'Verb')]"
            ]
          },
          "metadata": {},
          "execution_count": 18
        }
      ]
    },
    {
      "cell_type": "markdown",
      "source": [
        "#### 데이터클렌징\n",
        "- 이모지 제거"
      ],
      "metadata": {
        "id": "pHrZZl3dU5J7"
      }
    },
    {
      "cell_type": "code",
      "source": [
        "!pip install emoji"
      ],
      "metadata": {
        "colab": {
          "base_uri": "https://localhost:8080/"
        },
        "id": "FfcBZmoYVGyK",
        "outputId": "b82d9d53-e528-4402-e989-1123aba06f04"
      },
      "execution_count": 27,
      "outputs": [
        {
          "output_type": "stream",
          "name": "stdout",
          "text": [
            "Collecting emoji\n",
            "  Downloading emoji-2.12.1-py3-none-any.whl.metadata (5.4 kB)\n",
            "Requirement already satisfied: typing-extensions>=4.7.0 in /usr/local/lib/python3.10/dist-packages (from emoji) (4.12.2)\n",
            "Downloading emoji-2.12.1-py3-none-any.whl (431 kB)\n",
            "\u001b[?25l   \u001b[90m━━━━━━━━━━━━━━━━━━━━━━━━━━━━━━━━━━━━━━━━\u001b[0m \u001b[32m0.0/431.4 kB\u001b[0m \u001b[31m?\u001b[0m eta \u001b[36m-:--:--\u001b[0m\r\u001b[2K   \u001b[91m━━━━━━━━━━━━━━\u001b[0m\u001b[90m╺\u001b[0m\u001b[90m━━━━━━━━━━━━━━━━━━━━━━━━━\u001b[0m \u001b[32m153.6/431.4 kB\u001b[0m \u001b[31m4.7 MB/s\u001b[0m eta \u001b[36m0:00:01\u001b[0m\r\u001b[2K   \u001b[90m━━━━━━━━━━━━━━━━━━━━━━━━━━━━━━━━━━━━━━━━\u001b[0m \u001b[32m431.4/431.4 kB\u001b[0m \u001b[31m6.2 MB/s\u001b[0m eta \u001b[36m0:00:00\u001b[0m\n",
            "\u001b[?25hInstalling collected packages: emoji\n",
            "Successfully installed emoji-2.12.1\n"
          ]
        }
      ]
    },
    {
      "cell_type": "code",
      "source": [
        "import emoji"
      ],
      "metadata": {
        "id": "0B56KGxGVUmu"
      },
      "execution_count": 24,
      "outputs": []
    },
    {
      "cell_type": "code",
      "source": [
        "train_rm_emoji = [emoji.replace_emoji(s) for s in train_text['문장']]\n",
        "test_rm_emoji = [emoji.replace_emoji(s) for s in test_text['문장']]"
      ],
      "metadata": {
        "id": "_MXsuFeaazkK"
      },
      "execution_count": 35,
      "outputs": []
    },
    {
      "cell_type": "code",
      "source": [
        "from tqdm import tqdm"
      ],
      "metadata": {
        "id": "WDpUMwueTtPG"
      },
      "execution_count": 26,
      "outputs": []
    },
    {
      "cell_type": "code",
      "source": [
        "# kkma vs mecab\n",
        "# train_kkma_morphs = [kkma.morphs(s) for s in tqdm(train_rm_emoji)]\n",
        "train_mecab_morphs = [mecab.morphs(s) for s in tqdm(train_rm_emoji)]\n",
        "test_mecab_morphs = [mecab.morphs(s) for s in tqdm(test_rm_emoji)]"
      ],
      "metadata": {
        "colab": {
          "base_uri": "https://localhost:8080/"
        },
        "id": "hk-a_ptBLdwF",
        "outputId": "f610e3db-0272-4ea2-89b5-638f982080d7"
      },
      "execution_count": 36,
      "outputs": [
        {
          "output_type": "stream",
          "name": "stderr",
          "text": [
            "100%|██████████| 15005/15005 [00:01<00:00, 9173.15it/s]\n",
            "100%|██████████| 3737/3737 [00:00<00:00, 8953.36it/s]\n"
          ]
        }
      ]
    },
    {
      "cell_type": "code",
      "source": [
        "train_mecab_morphs[:10]"
      ],
      "metadata": {
        "colab": {
          "base_uri": "https://localhost:8080/"
        },
        "collapsed": true,
        "id": "be10pPhNK6av",
        "outputId": "0c69a504-1f66-4f4a-99fd-63d980f925e4"
      },
      "execution_count": 15,
      "outputs": [
        {
          "output_type": "execute_result",
          "data": {
            "text/plain": [
              "[['일안', '하', '는', '시간', '은', '쉬', '고', '싶', '어서', '그런', '게', '아닐까'],\n",
              " ['아동',\n",
              "  '성범죄',\n",
              "  '와',\n",
              "  '페도버는',\n",
              "  '기록',\n",
              "  '바',\n",
              "  '끊',\n",
              "  '어',\n",
              "  '져',\n",
              "  '영원히',\n",
              "  '고통',\n",
              "  '받',\n",
              "  '는다',\n",
              "  '.',\n",
              "  '무슬림',\n",
              "  '50',\n",
              "  '퍼',\n",
              "  '근친',\n",
              "  '이',\n",
              "  '다',\n",
              "  '.',\n",
              "  '10',\n",
              "  '16',\n",
              "  '까지',\n",
              "  'IQ',\n",
              "  '떨어지',\n",
              "  '고',\n",
              "  '출산',\n",
              "  '위험',\n",
              "  '은',\n",
              "  '400',\n",
              "  '%',\n",
              "  '다',\n",
              "  '.'],\n",
              " ['루나',\n",
              "  '솔로',\n",
              "  '앨범',\n",
              "  '나왔',\n",
              "  '을',\n",
              "  '때',\n",
              "  '부터',\n",
              "  '머',\n",
              "  '모',\n",
              "  '기운',\n",
              "  '있',\n",
              "  '었',\n",
              "  '음',\n",
              "  'ㅇㅇ',\n",
              "  'Keep',\n",
              "  'o',\n",
              "  'doin',\n",
              "  '진짜',\n",
              "  '띵',\n",
              "  '곡',\n",
              "  '임',\n",
              "  '꼭',\n",
              "  '들',\n",
              "  '어',\n",
              "  '보',\n",
              "  '셈',\n",
              "  '\"'],\n",
              " ['홍',\n",
              "  '팍',\n",
              "  '에',\n",
              "  '도',\n",
              "  '어버이',\n",
              "  '연합',\n",
              "  '인가',\n",
              "  '보내',\n",
              "  '요',\n",
              "  '뭐',\n",
              "  '이런',\n",
              "  '뎃글',\n",
              "  '있',\n",
              "  '는데',\n",
              "  '이거',\n",
              "  '어버이',\n",
              "  '연합',\n",
              "  '측',\n",
              "  '에',\n",
              "  '신고',\n",
              "  '하',\n",
              "  '면',\n",
              "  '그쪽',\n",
              "  '에서',\n",
              "  '고소',\n",
              "  '가능',\n",
              "  '하',\n",
              "  '냐',\n",
              "  '?'],\n",
              " ['아',\n",
              "  '놔',\n",
              "  '왜',\n",
              "  '여기',\n",
              "  '댓',\n",
              "  '들',\n",
              "  '은',\n",
              "  '다',\n",
              "  '여자',\n",
              "  '들',\n",
              "  '이',\n",
              "  '김치',\n",
              "  '녀',\n",
              "  '라고',\n",
              "  '먼저',\n",
              "  '불렸',\n",
              "  '다',\n",
              "  '!',\n",
              "  '여자',\n",
              "  '들',\n",
              "  '은',\n",
              "  '더',\n",
              "  '심하',\n",
              "  '게',\n",
              "  '그런다',\n",
              "  '!',\n",
              "  '이렇게',\n",
              "  '2',\n",
              "  '개',\n",
              "  '로',\n",
              "  '싸우',\n",
              "  '냐',\n",
              "  '.',\n",
              "  '.',\n",
              "  '내',\n",
              "  '가',\n",
              "  '볼',\n",
              "  '땐',\n",
              "  '둘',\n",
              "  '다',\n",
              "  '나쁜',\n",
              "  '말',\n",
              "  '그',\n",
              "  '이상',\n",
              "  '도',\n",
              "  '이하',\n",
              "  '도',\n",
              "  '아닌데'],\n",
              " ['고향',\n",
              "  '가',\n",
              "  '서',\n",
              "  '피',\n",
              "  '방가',\n",
              "  '면',\n",
              "  '동네',\n",
              "  '부럴',\n",
              "  '친구',\n",
              "  '들',\n",
              "  '이랑',\n",
              "  '은',\n",
              "  '뭐',\n",
              "  '거르',\n",
              "  '는',\n",
              "  '거',\n",
              "  '없이',\n",
              "  '이야기',\n",
              "  '하',\n",
              "  '니까',\n",
              "  '막',\n",
              "  '말',\n",
              "  '하',\n",
              "  '게',\n",
              "  '되',\n",
              "  '더라',\n",
              "  '당연히',\n",
              "  '키보드',\n",
              "  '를',\n",
              "  '치',\n",
              "  '거나',\n",
              "  '그러',\n",
              "  '지',\n",
              "  '는',\n",
              "  '않',\n",
              "  '는데',\n",
              "  '말',\n",
              "  '하',\n",
              "  '는',\n",
              "  '게',\n",
              "  '많이',\n",
              "  '거칠',\n",
              "  '어',\n",
              "  '지',\n",
              "  '긴',\n",
              "  '해',\n",
              "  '반성',\n",
              "  '해야',\n",
              "  '겠',\n",
              "  '네'],\n",
              " ['예수',\n",
              "  '십',\n",
              "  '새끼',\n",
              "  '개새끼',\n",
              "  '창녀',\n",
              "  '아들',\n",
              "  '애비',\n",
              "  '실종',\n",
              "  '가정',\n",
              "  '교육',\n",
              "  '못',\n",
              "  '받',\n",
              "  '은',\n",
              "  '무',\n",
              "  '뇌',\n",
              "  '충',\n",
              "  '허언',\n",
              "  '증',\n",
              "  '정신병자',\n",
              "  '사기',\n",
              "  '꾼',\n",
              "  '망상',\n",
              "  '근본',\n",
              "  '없',\n",
              "  '는',\n",
              "  '병신',\n",
              "  '장애',\n",
              "  '인',\n",
              "  '짱',\n",
              "  '개',\n",
              "  '흑인',\n",
              "  '이슬람',\n",
              "  '전라도',\n",
              "  '랑',\n",
              "  '동급'],\n",
              " ['나이',\n",
              "  '쳐먹',\n",
              "  '고',\n",
              "  '피시방',\n",
              "  '가',\n",
              "  '는',\n",
              "  '놈',\n",
              "  '들',\n",
              "  '은',\n",
              "  '대가리',\n",
              "  '에',\n",
              "  '똥',\n",
              "  '만',\n",
              "  '찬',\n",
              "  '놈',\n",
              "  '들',\n",
              "  '임'],\n",
              " ['출산',\n",
              "  '청',\n",
              "  '같',\n",
              "  '은',\n",
              "  '소리',\n",
              "  '하',\n",
              "  '네',\n",
              "  '.',\n",
              "  '우리',\n",
              "  '나라',\n",
              "  '계집',\n",
              "  '들',\n",
              "  '다',\n",
              "  '의무',\n",
              "  '적',\n",
              "  '으로',\n",
              "  '군대',\n",
              "  '보내',\n",
              "  '면',\n",
              "  '해결',\n",
              "  '될',\n",
              "  '일',\n",
              "  '이',\n",
              "  '다',\n",
              "  '.',\n",
              "  '정신',\n",
              "  '개조',\n",
              "  '부터',\n",
              "  '시켜야',\n",
              "  '지',\n",
              "  '.',\n",
              "  '지',\n",
              "  '할꺼',\n",
              "  '다',\n",
              "  '하',\n",
              "  '고',\n",
              "  '무슨',\n",
              "  '애',\n",
              "  '를',\n",
              "  '낳',\n",
              "  '고',\n",
              "  '무슨',\n",
              "  '자식',\n",
              "  '교육',\n",
              "  '을',\n",
              "  '하',\n",
              "  '냐',\n",
              "  '?'],\n",
              " ['재능',\n",
              "  'ㅂ',\n",
              "  'ㅅ',\n",
              "  'ㅌㅊ노',\n",
              "  'ㅋㅋㅋ',\n",
              "  'ㅋㅋ',\n",
              "  '나',\n",
              "  '도',\n",
              "  '합성',\n",
              "  '배우',\n",
              "  '고',\n",
              "  '싶',\n",
              "  '다',\n",
              "  '이기']]"
            ]
          },
          "metadata": {},
          "execution_count": 15
        }
      ]
    },
    {
      "cell_type": "code",
      "source": [
        "train_rm_emoji = [emoji.replace_emoji(s) for s in train_text['문장']]\n",
        "train_mecab_morphs = [mecab.morphs(s) for s in tqdm(train_rm_emoji)]"
      ],
      "metadata": {
        "colab": {
          "base_uri": "https://localhost:8080/"
        },
        "id": "Y--c6WlqaqvN",
        "outputId": "2223595f-34ea-45a3-b0ac-94818447e574"
      },
      "execution_count": 37,
      "outputs": [
        {
          "output_type": "stream",
          "name": "stderr",
          "text": [
            "100%|██████████| 15005/15005 [00:02<00:00, 6848.85it/s]\n"
          ]
        }
      ]
    },
    {
      "cell_type": "code",
      "source": [
        "test_rm_emoji = [emoji.replace_emoji(s) for s in test_text['문장']]\n",
        "test_mecab_morphs = [mecab.morphs(s) for s in tqdm(test_rm_emoji)]"
      ],
      "metadata": {
        "colab": {
          "base_uri": "https://localhost:8080/"
        },
        "id": "IG9ABLXoK6eJ",
        "outputId": "ef3ec0d4-9f09-42d7-9fa0-6b28dd7eb198"
      },
      "execution_count": 38,
      "outputs": [
        {
          "output_type": "stream",
          "name": "stderr",
          "text": [
            "100%|██████████| 3737/3737 [00:00<00:00, 10598.19it/s]\n"
          ]
        }
      ]
    },
    {
      "cell_type": "code",
      "source": [
        "# 정규표현식 활용 클렌징\n",
        "import re # 정규표현식을 사용할 수 있는 모듈 로딩"
      ],
      "metadata": {
        "id": "My54Fm-jK6ha"
      },
      "execution_count": 11,
      "outputs": []
    },
    {
      "cell_type": "code",
      "source": [
        "# 클렌징할 패턴 생성\n",
        "unsmile_p = re.compile('[!?,.:;0-9a-zA-Zㅋㅎㄷㅇ~]+')"
      ],
      "metadata": {
        "id": "ssnzP5oMK6jg"
      },
      "execution_count": 39,
      "outputs": []
    },
    {
      "cell_type": "code",
      "source": [
        "clean_morphs_train = []  # 클렌징된 단어토큰이 들어갈 리스트\n",
        "for s in train_mecab_morphs : # 형태소로 분리된 훈련용 문장\n",
        "    temp = [] # 한 문장을 담을 리스트\n",
        "    for w in s : # 하나의 문장에서 형태소 단위로 반복\n",
        "        if unsmile_p.search(w) : # 단어토큰이 패턴에 매칭된다면\n",
        "            continue # 다음 단어 반복으로 넘어감\n",
        "        if len(w) < 2 : # 한글자 단어라면\n",
        "            continue # 다음 단어 반복으로 넘어감\n",
        "        temp.append(w) # 패턴에 매칭되지 않는다면 리스트에 추가\n",
        "    clean_morphs_train.append(temp) # 한 문장을 전체 리스트에 추가"
      ],
      "metadata": {
        "id": "Tja7-3zBY-b1"
      },
      "execution_count": 40,
      "outputs": []
    },
    {
      "cell_type": "code",
      "source": [
        "clean_morphs_test = []  # 클렌징된 단어토큰이 들어갈 리스트\n",
        "for s in test_mecab_morphs : # 형태소로 분리된 훈련용 문장\n",
        "    temp = [] # 한 문장을 담을 리스트\n",
        "    for w in s : # 하나의 문장에서 형태소 단위로 반복\n",
        "        if unsmile_p.search(w) : # 단어토큰이 패턴에 매칭된다면\n",
        "            continue # 다음 단어 반복으로 넘어감\n",
        "        if len(w) < 2 : # 한글자 단어라면\n",
        "            continue # 다음 단어 반복으로 넘어감\n",
        "        temp.append(w) # 패턴에 매칭되지 않는다면 리스트에 추가\n",
        "    clean_morphs_test.append(temp) # 한 문장을 전체 리스트에 추가"
      ],
      "metadata": {
        "id": "f4zcS6cIZqXT"
      },
      "execution_count": 41,
      "outputs": []
    },
    {
      "cell_type": "code",
      "source": [
        "print(len(clean_morphs_train))\n",
        "print(len(clean_morphs_test))"
      ],
      "metadata": {
        "colab": {
          "base_uri": "https://localhost:8080/"
        },
        "id": "PZ635hszZ0YU",
        "outputId": "0ecd5c2d-88fe-4607-956e-11f852f94e52"
      },
      "execution_count": 42,
      "outputs": [
        {
          "output_type": "stream",
          "name": "stdout",
          "text": [
            "15005\n",
            "3737\n"
          ]
        }
      ]
    },
    {
      "cell_type": "markdown",
      "source": [
        "#### 파일 저장 후 로컬 환경으로 이동"
      ],
      "metadata": {
        "id": "LrBFAyv5bFXX"
      }
    },
    {
      "cell_type": "code",
      "source": [
        "# 피클을 이용해 전처리된 파일 저장\n",
        "import pickle"
      ],
      "metadata": {
        "id": "Regkr5PTbZRz"
      },
      "execution_count": 19,
      "outputs": []
    },
    {
      "cell_type": "code",
      "source": [
        "with open(\"./clean_morphs_train.pkl\", \"wb\") as f :\n",
        "    pickle.dump(clean_morphs_train, f)"
      ],
      "metadata": {
        "id": "9thifHTTbg3Z"
      },
      "execution_count": 43,
      "outputs": []
    },
    {
      "cell_type": "code",
      "source": [
        "with open(\"./clean_morphs_test.pkl\", \"wb\") as f :\n",
        "    pickle.dump(clean_morphs_test, f)"
      ],
      "metadata": {
        "id": "Cm5EEIn-b7DX"
      },
      "execution_count": 44,
      "outputs": []
    }
  ]
}