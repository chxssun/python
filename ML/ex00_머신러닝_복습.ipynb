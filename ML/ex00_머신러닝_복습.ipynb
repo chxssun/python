{
 "cells": [
  {
   "cell_type": "markdown",
   "metadata": {},
   "source": [
    "### 1. 인공지능 vs 머신러닝 vs 딥러닝\n",
    "- 인공지능 : 사람의 모든 것을 흉내내는 기술\n",
    "- 머신러닝 : 사람이 학습하는 방식을 기계에게 적용하는 기술 -> 다양한 학습 방식이 있다\n",
    "- 딥러닝 : 머신러닝의 하위분야로 사람의 뇌(신경망)를 모방하여 학습하는 방식의 기술 -> 최근 보여주는 다양한 결과물의 근본이 된다"
   ]
  },
  {
   "cell_type": "markdown",
   "metadata": {},
   "source": [
    "### 2. ML이란?\n",
    "- Data를 Model에게 넣어서 스스로 학습하게 하는 방법\n",
    "- 장점 : 사람이 관여하는 부분이 적다 -> 자동화가 가능\n",
    "- 단점 : 기계가 어떤 방식으로 학습/예측 하는지 파악하기 어렵다 -> 평가가 중요하다"
   ]
  },
  {
   "cell_type": "markdown",
   "metadata": {},
   "source": [
    "### 3. 인공지능 활용 프로세스\n",
    "1. 문제정의\n",
    "2. 관련 학습 데이터 수집\n",
    "3. 데이터 전처리\n",
    "4. 데이터 탐색(EDA)\n",
    "5. 학습 모델 선택 및 하이퍼파라미터 튜닝\n",
    "6. 모델 평가\n",
    "7. 서비스화"
   ]
  },
  {
   "cell_type": "code",
   "execution_count": null,
   "metadata": {},
   "outputs": [],
   "source": []
  },
  {
   "cell_type": "code",
   "execution_count": null,
   "metadata": {},
   "outputs": [],
   "source": []
  },
  {
   "cell_type": "code",
   "execution_count": null,
   "metadata": {},
   "outputs": [],
   "source": []
  }
 ],
 "metadata": {
  "kernelspec": {
   "display_name": "Python 3",
   "language": "python",
   "name": "python3"
  },
  "language_info": {
   "name": "python",
   "version": "3.12.3"
  }
 },
 "nbformat": 4,
 "nbformat_minor": 2
}
