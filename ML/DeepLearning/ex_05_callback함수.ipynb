{
 "cells": [
  {
   "cell_type": "markdown",
   "metadata": {},
   "source": [
    "### callback\n",
    "- 모델 저장, 모델 학습 조기 중단\n",
    "    - 모델 저장 : 딥러닝 모델 학습시 지정된 epochs를 다 끝내면 과대 적합되는 경우가 있다 -> 학습 중간에 일반화된 모델을 저장하는 기능\n",
    "    - 모델 학습 조기 중단 : epochs 를 크게 설정한 경우 일정 횟수 이후로는 모델의 성능이 개선되지 않는 경우가 있음. 시간낭비 -> 모델의 성능이 더이상 개선되지 않는 경우에는 조기 중단이 필요"
   ]
  },
  {
   "cell_type": "code",
   "execution_count": 10,
   "metadata": {},
   "outputs": [],
   "source": [
    "from tensorflow.keras.callbacks import  ModelCheckpoint, EarlyStopping\n",
    "# 모델 중간 저장\n",
    "# 모델 조기 중단"
   ]
  },
  {
   "cell_type": "code",
   "execution_count": 11,
   "metadata": {},
   "outputs": [],
   "source": [
    "# 모델 저장 객체 생성\n",
    "# 경로 설정 -> 절대경로\n",
    "# 상대경로 지정을 원할 시에는 %cd 현재 작업 위치를 변경 후에 진행\n",
    "model_path = r\"C:\\Users\\chxss\\OneDrive\\Desktop\\AiSchool\\python\\ML\\DeepLearning\\model\\model_{epoch:02d}_{val_accuracy:0.3f}.keras\"\n",
    "mcp = ModelCheckpoint(filepath=model_path,\n",
    "                        verbose= 1, # 모델 학습시 로그 출력 -> 저장되는 epoch를 표시\n",
    "                        save_best_only = True, # 모델 성능이 최고점을 경신할때만 저장\n",
    "                        monitor = 'val_accuracy') # 모델 성능을 확인하는 기준\n",
    "                        # loss, accuracy도 가능하지만 검증데이터를 활용하는것을 추천"
   ]
  },
  {
   "cell_type": "code",
   "execution_count": 12,
   "metadata": {},
   "outputs": [],
   "source": [
    "# 조기 중단 객체 생성\n",
    "early = EarlyStopping(monitor='val_accuracy', # 학습을 중단할 기준 설정\n",
    "                        verbose = 1, # 로그 출력\n",
    "                        patience = 10) # 모델 성능 개선을 기다리는 최대 횟수\n",
    "                        # 10번의 성능개선 기회를 줌"
   ]
  },
  {
   "cell_type": "code",
   "execution_count": 14,
   "metadata": {},
   "outputs": [
    {
     "name": "stdout",
     "output_type": "stream",
     "text": [
      "Epoch 1/100\n",
      "\u001b[1m746/750\u001b[0m \u001b[32m━━━━━━━━━━━━━━━━━━━\u001b[0m\u001b[37m━\u001b[0m \u001b[1m0s\u001b[0m 3ms/step - accuracy: 0.7560 - loss: 1.4120\n",
      "Epoch 1: val_accuracy improved from -inf to 0.93067, saving model to C:\\Users\\chxss\\OneDrive\\Desktop\\AiSchool\\python\\ML\\DeepLearning\\model\\model_01_0.931.keras\n",
      "\u001b[1m750/750\u001b[0m \u001b[32m━━━━━━━━━━━━━━━━━━━━\u001b[0m\u001b[37m\u001b[0m \u001b[1m5s\u001b[0m 4ms/step - accuracy: 0.7567 - loss: 1.4066 - val_accuracy: 0.9307 - val_loss: 0.2480\n",
      "Epoch 2/100\n",
      "\u001b[1m739/750\u001b[0m \u001b[32m━━━━━━━━━━━━━━━━━━━\u001b[0m\u001b[37m━\u001b[0m \u001b[1m0s\u001b[0m 3ms/step - accuracy: 0.9360 - loss: 0.2150\n",
      "Epoch 2: val_accuracy improved from 0.93067 to 0.94450, saving model to C:\\Users\\chxss\\OneDrive\\Desktop\\AiSchool\\python\\ML\\DeepLearning\\model\\model_02_0.945.keras\n",
      "\u001b[1m750/750\u001b[0m \u001b[32m━━━━━━━━━━━━━━━━━━━━\u001b[0m\u001b[37m\u001b[0m \u001b[1m2s\u001b[0m 3ms/step - accuracy: 0.9361 - loss: 0.2148 - val_accuracy: 0.9445 - val_loss: 0.2047\n",
      "Epoch 3/100\n",
      "\u001b[1m731/750\u001b[0m \u001b[32m━━━━━━━━━━━━━━━━━━━\u001b[0m\u001b[37m━\u001b[0m \u001b[1m0s\u001b[0m 3ms/step - accuracy: 0.9542 - loss: 0.1578\n",
      "Epoch 3: val_accuracy improved from 0.94450 to 0.94758, saving model to C:\\Users\\chxss\\OneDrive\\Desktop\\AiSchool\\python\\ML\\DeepLearning\\model\\model_03_0.948.keras\n",
      "\u001b[1m750/750\u001b[0m \u001b[32m━━━━━━━━━━━━━━━━━━━━\u001b[0m\u001b[37m\u001b[0m \u001b[1m3s\u001b[0m 3ms/step - accuracy: 0.9542 - loss: 0.1577 - val_accuracy: 0.9476 - val_loss: 0.1906\n",
      "Epoch 4/100\n",
      "\u001b[1m748/750\u001b[0m \u001b[32m━━━━━━━━━━━━━━━━━━━\u001b[0m\u001b[37m━\u001b[0m \u001b[1m0s\u001b[0m 2ms/step - accuracy: 0.9641 - loss: 0.1210\n",
      "Epoch 4: val_accuracy improved from 0.94758 to 0.95342, saving model to C:\\Users\\chxss\\OneDrive\\Desktop\\AiSchool\\python\\ML\\DeepLearning\\model\\model_04_0.953.keras\n",
      "\u001b[1m750/750\u001b[0m \u001b[32m━━━━━━━━━━━━━━━━━━━━\u001b[0m\u001b[37m\u001b[0m \u001b[1m2s\u001b[0m 3ms/step - accuracy: 0.9641 - loss: 0.1210 - val_accuracy: 0.9534 - val_loss: 0.1701\n",
      "Epoch 5/100\n",
      "\u001b[1m739/750\u001b[0m \u001b[32m━━━━━━━━━━━━━━━━━━━\u001b[0m\u001b[37m━\u001b[0m \u001b[1m0s\u001b[0m 3ms/step - accuracy: 0.9680 - loss: 0.1065\n",
      "Epoch 5: val_accuracy did not improve from 0.95342\n",
      "\u001b[1m750/750\u001b[0m \u001b[32m━━━━━━━━━━━━━━━━━━━━\u001b[0m\u001b[37m\u001b[0m \u001b[1m2s\u001b[0m 3ms/step - accuracy: 0.9680 - loss: 0.1066 - val_accuracy: 0.9534 - val_loss: 0.1691\n",
      "Epoch 6/100\n",
      "\u001b[1m741/750\u001b[0m \u001b[32m━━━━━━━━━━━━━━━━━━━\u001b[0m\u001b[37m━\u001b[0m \u001b[1m0s\u001b[0m 3ms/step - accuracy: 0.9721 - loss: 0.0907\n",
      "Epoch 6: val_accuracy improved from 0.95342 to 0.96308, saving model to C:\\Users\\chxss\\OneDrive\\Desktop\\AiSchool\\python\\ML\\DeepLearning\\model\\model_06_0.963.keras\n",
      "\u001b[1m750/750\u001b[0m \u001b[32m━━━━━━━━━━━━━━━━━━━━\u001b[0m\u001b[37m\u001b[0m \u001b[1m3s\u001b[0m 4ms/step - accuracy: 0.9721 - loss: 0.0908 - val_accuracy: 0.9631 - val_loss: 0.1413\n",
      "Epoch 7/100\n",
      "\u001b[1m731/750\u001b[0m \u001b[32m━━━━━━━━━━━━━━━━━━━\u001b[0m\u001b[37m━\u001b[0m \u001b[1m0s\u001b[0m 3ms/step - accuracy: 0.9748 - loss: 0.0828\n",
      "Epoch 7: val_accuracy did not improve from 0.96308\n",
      "\u001b[1m750/750\u001b[0m \u001b[32m━━━━━━━━━━━━━━━━━━━━\u001b[0m\u001b[37m\u001b[0m \u001b[1m5s\u001b[0m 3ms/step - accuracy: 0.9748 - loss: 0.0830 - val_accuracy: 0.9602 - val_loss: 0.1615\n",
      "Epoch 8/100\n",
      "\u001b[1m739/750\u001b[0m \u001b[32m━━━━━━━━━━━━━━━━━━━\u001b[0m\u001b[37m━\u001b[0m \u001b[1m0s\u001b[0m 3ms/step - accuracy: 0.9775 - loss: 0.0737\n",
      "Epoch 8: val_accuracy did not improve from 0.96308\n",
      "\u001b[1m750/750\u001b[0m \u001b[32m━━━━━━━━━━━━━━━━━━━━\u001b[0m\u001b[37m\u001b[0m \u001b[1m2s\u001b[0m 3ms/step - accuracy: 0.9775 - loss: 0.0738 - val_accuracy: 0.9605 - val_loss: 0.1435\n",
      "Epoch 9/100\n",
      "\u001b[1m739/750\u001b[0m \u001b[32m━━━━━━━━━━━━━━━━━━━\u001b[0m\u001b[37m━\u001b[0m \u001b[1m0s\u001b[0m 3ms/step - accuracy: 0.9800 - loss: 0.0662\n",
      "Epoch 9: val_accuracy improved from 0.96308 to 0.96592, saving model to C:\\Users\\chxss\\OneDrive\\Desktop\\AiSchool\\python\\ML\\DeepLearning\\model\\model_09_0.966.keras\n",
      "\u001b[1m750/750\u001b[0m \u001b[32m━━━━━━━━━━━━━━━━━━━━\u001b[0m\u001b[37m\u001b[0m \u001b[1m3s\u001b[0m 3ms/step - accuracy: 0.9800 - loss: 0.0662 - val_accuracy: 0.9659 - val_loss: 0.1301\n",
      "Epoch 10/100\n",
      "\u001b[1m740/750\u001b[0m \u001b[32m━━━━━━━━━━━━━━━━━━━\u001b[0m\u001b[37m━\u001b[0m \u001b[1m0s\u001b[0m 3ms/step - accuracy: 0.9811 - loss: 0.0610\n",
      "Epoch 10: val_accuracy did not improve from 0.96592\n",
      "\u001b[1m750/750\u001b[0m \u001b[32m━━━━━━━━━━━━━━━━━━━━\u001b[0m\u001b[37m\u001b[0m \u001b[1m2s\u001b[0m 3ms/step - accuracy: 0.9811 - loss: 0.0611 - val_accuracy: 0.9626 - val_loss: 0.1529\n",
      "Epoch 11/100\n",
      "\u001b[1m735/750\u001b[0m \u001b[32m━━━━━━━━━━━━━━━━━━━\u001b[0m\u001b[37m━\u001b[0m \u001b[1m0s\u001b[0m 3ms/step - accuracy: 0.9819 - loss: 0.0606\n",
      "Epoch 11: val_accuracy did not improve from 0.96592\n",
      "\u001b[1m750/750\u001b[0m \u001b[32m━━━━━━━━━━━━━━━━━━━━\u001b[0m\u001b[37m\u001b[0m \u001b[1m2s\u001b[0m 3ms/step - accuracy: 0.9818 - loss: 0.0606 - val_accuracy: 0.9628 - val_loss: 0.1574\n",
      "Epoch 12/100\n",
      "\u001b[1m732/750\u001b[0m \u001b[32m━━━━━━━━━━━━━━━━━━━\u001b[0m\u001b[37m━\u001b[0m \u001b[1m0s\u001b[0m 3ms/step - accuracy: 0.9837 - loss: 0.0565\n",
      "Epoch 12: val_accuracy improved from 0.96592 to 0.96800, saving model to C:\\Users\\chxss\\OneDrive\\Desktop\\AiSchool\\python\\ML\\DeepLearning\\model\\model_12_0.968.keras\n",
      "\u001b[1m750/750\u001b[0m \u001b[32m━━━━━━━━━━━━━━━━━━━━\u001b[0m\u001b[37m\u001b[0m \u001b[1m2s\u001b[0m 3ms/step - accuracy: 0.9836 - loss: 0.0566 - val_accuracy: 0.9680 - val_loss: 0.1442\n",
      "Epoch 13/100\n",
      "\u001b[1m748/750\u001b[0m \u001b[32m━━━━━━━━━━━━━━━━━━━\u001b[0m\u001b[37m━\u001b[0m \u001b[1m0s\u001b[0m 3ms/step - accuracy: 0.9853 - loss: 0.0514\n",
      "Epoch 13: val_accuracy did not improve from 0.96800\n",
      "\u001b[1m750/750\u001b[0m \u001b[32m━━━━━━━━━━━━━━━━━━━━\u001b[0m\u001b[37m\u001b[0m \u001b[1m2s\u001b[0m 3ms/step - accuracy: 0.9853 - loss: 0.0514 - val_accuracy: 0.9657 - val_loss: 0.1612\n",
      "Epoch 14/100\n",
      "\u001b[1m747/750\u001b[0m \u001b[32m━━━━━━━━━━━━━━━━━━━\u001b[0m\u001b[37m━\u001b[0m \u001b[1m0s\u001b[0m 3ms/step - accuracy: 0.9818 - loss: 0.0644\n",
      "Epoch 14: val_accuracy did not improve from 0.96800\n",
      "\u001b[1m750/750\u001b[0m \u001b[32m━━━━━━━━━━━━━━━━━━━━\u001b[0m\u001b[37m\u001b[0m \u001b[1m2s\u001b[0m 3ms/step - accuracy: 0.9818 - loss: 0.0644 - val_accuracy: 0.9628 - val_loss: 0.1748\n",
      "Epoch 15/100\n",
      "\u001b[1m741/750\u001b[0m \u001b[32m━━━━━━━━━━━━━━━━━━━\u001b[0m\u001b[37m━\u001b[0m \u001b[1m0s\u001b[0m 2ms/step - accuracy: 0.9874 - loss: 0.0451\n",
      "Epoch 15: val_accuracy improved from 0.96800 to 0.96942, saving model to C:\\Users\\chxss\\OneDrive\\Desktop\\AiSchool\\python\\ML\\DeepLearning\\model\\model_15_0.969.keras\n",
      "\u001b[1m750/750\u001b[0m \u001b[32m━━━━━━━━━━━━━━━━━━━━\u001b[0m\u001b[37m\u001b[0m \u001b[1m2s\u001b[0m 3ms/step - accuracy: 0.9874 - loss: 0.0451 - val_accuracy: 0.9694 - val_loss: 0.1508\n",
      "Epoch 16/100\n",
      "\u001b[1m736/750\u001b[0m \u001b[32m━━━━━━━━━━━━━━━━━━━\u001b[0m\u001b[37m━\u001b[0m \u001b[1m0s\u001b[0m 3ms/step - accuracy: 0.9871 - loss: 0.0443\n",
      "Epoch 16: val_accuracy did not improve from 0.96942\n",
      "\u001b[1m750/750\u001b[0m \u001b[32m━━━━━━━━━━━━━━━━━━━━\u001b[0m\u001b[37m\u001b[0m \u001b[1m2s\u001b[0m 3ms/step - accuracy: 0.9871 - loss: 0.0444 - val_accuracy: 0.9667 - val_loss: 0.1741\n",
      "Epoch 17/100\n",
      "\u001b[1m741/750\u001b[0m \u001b[32m━━━━━━━━━━━━━━━━━━━\u001b[0m\u001b[37m━\u001b[0m \u001b[1m0s\u001b[0m 3ms/step - accuracy: 0.9880 - loss: 0.0425\n",
      "Epoch 17: val_accuracy improved from 0.96942 to 0.97067, saving model to C:\\Users\\chxss\\OneDrive\\Desktop\\AiSchool\\python\\ML\\DeepLearning\\model\\model_17_0.971.keras\n",
      "\u001b[1m750/750\u001b[0m \u001b[32m━━━━━━━━━━━━━━━━━━━━\u001b[0m\u001b[37m\u001b[0m \u001b[1m3s\u001b[0m 3ms/step - accuracy: 0.9880 - loss: 0.0426 - val_accuracy: 0.9707 - val_loss: 0.1537\n",
      "Epoch 18/100\n",
      "\u001b[1m749/750\u001b[0m \u001b[32m━━━━━━━━━━━━━━━━━━━\u001b[0m\u001b[37m━\u001b[0m \u001b[1m0s\u001b[0m 3ms/step - accuracy: 0.9897 - loss: 0.0381\n",
      "Epoch 18: val_accuracy did not improve from 0.97067\n",
      "\u001b[1m750/750\u001b[0m \u001b[32m━━━━━━━━━━━━━━━━━━━━\u001b[0m\u001b[37m\u001b[0m \u001b[1m2s\u001b[0m 3ms/step - accuracy: 0.9897 - loss: 0.0381 - val_accuracy: 0.9692 - val_loss: 0.1646\n",
      "Epoch 19/100\n",
      "\u001b[1m733/750\u001b[0m \u001b[32m━━━━━━━━━━━━━━━━━━━\u001b[0m\u001b[37m━\u001b[0m \u001b[1m0s\u001b[0m 3ms/step - accuracy: 0.9896 - loss: 0.0372\n",
      "Epoch 19: val_accuracy did not improve from 0.97067\n",
      "\u001b[1m750/750\u001b[0m \u001b[32m━━━━━━━━━━━━━━━━━━━━\u001b[0m\u001b[37m\u001b[0m \u001b[1m2s\u001b[0m 3ms/step - accuracy: 0.9896 - loss: 0.0373 - val_accuracy: 0.9697 - val_loss: 0.1675\n",
      "Epoch 20/100\n",
      "\u001b[1m739/750\u001b[0m \u001b[32m━━━━━━━━━━━━━━━━━━━\u001b[0m\u001b[37m━\u001b[0m \u001b[1m0s\u001b[0m 3ms/step - accuracy: 0.9882 - loss: 0.0391\n",
      "Epoch 20: val_accuracy improved from 0.97067 to 0.97150, saving model to C:\\Users\\chxss\\OneDrive\\Desktop\\AiSchool\\python\\ML\\DeepLearning\\model\\model_20_0.971.keras\n",
      "\u001b[1m750/750\u001b[0m \u001b[32m━━━━━━━━━━━━━━━━━━━━\u001b[0m\u001b[37m\u001b[0m \u001b[1m3s\u001b[0m 3ms/step - accuracy: 0.9882 - loss: 0.0391 - val_accuracy: 0.9715 - val_loss: 0.1449\n",
      "Epoch 21/100\n",
      "\u001b[1m735/750\u001b[0m \u001b[32m━━━━━━━━━━━━━━━━━━━\u001b[0m\u001b[37m━\u001b[0m \u001b[1m0s\u001b[0m 3ms/step - accuracy: 0.9909 - loss: 0.0373\n",
      "Epoch 21: val_accuracy did not improve from 0.97150\n",
      "\u001b[1m750/750\u001b[0m \u001b[32m━━━━━━━━━━━━━━━━━━━━\u001b[0m\u001b[37m\u001b[0m \u001b[1m2s\u001b[0m 3ms/step - accuracy: 0.9909 - loss: 0.0373 - val_accuracy: 0.9674 - val_loss: 0.1740\n",
      "Epoch 22/100\n",
      "\u001b[1m730/750\u001b[0m \u001b[32m━━━━━━━━━━━━━━━━━━━\u001b[0m\u001b[37m━\u001b[0m \u001b[1m0s\u001b[0m 2ms/step - accuracy: 0.9911 - loss: 0.0329\n",
      "Epoch 22: val_accuracy did not improve from 0.97150\n",
      "\u001b[1m750/750\u001b[0m \u001b[32m━━━━━━━━━━━━━━━━━━━━\u001b[0m\u001b[37m\u001b[0m \u001b[1m2s\u001b[0m 3ms/step - accuracy: 0.9910 - loss: 0.0330 - val_accuracy: 0.9703 - val_loss: 0.1681\n",
      "Epoch 23/100\n",
      "\u001b[1m732/750\u001b[0m \u001b[32m━━━━━━━━━━━━━━━━━━━\u001b[0m\u001b[37m━\u001b[0m \u001b[1m0s\u001b[0m 3ms/step - accuracy: 0.9919 - loss: 0.0302\n",
      "Epoch 23: val_accuracy did not improve from 0.97150\n",
      "\u001b[1m750/750\u001b[0m \u001b[32m━━━━━━━━━━━━━━━━━━━━\u001b[0m\u001b[37m\u001b[0m \u001b[1m3s\u001b[0m 3ms/step - accuracy: 0.9919 - loss: 0.0303 - val_accuracy: 0.9709 - val_loss: 0.1596\n",
      "Epoch 24/100\n",
      "\u001b[1m734/750\u001b[0m \u001b[32m━━━━━━━━━━━━━━━━━━━\u001b[0m\u001b[37m━\u001b[0m \u001b[1m0s\u001b[0m 3ms/step - accuracy: 0.9918 - loss: 0.0297\n",
      "Epoch 24: val_accuracy did not improve from 0.97150\n",
      "\u001b[1m750/750\u001b[0m \u001b[32m━━━━━━━━━━━━━━━━━━━━\u001b[0m\u001b[37m\u001b[0m \u001b[1m2s\u001b[0m 3ms/step - accuracy: 0.9918 - loss: 0.0298 - val_accuracy: 0.9681 - val_loss: 0.1527\n",
      "Epoch 25/100\n",
      "\u001b[1m743/750\u001b[0m \u001b[32m━━━━━━━━━━━━━━━━━━━\u001b[0m\u001b[37m━\u001b[0m \u001b[1m0s\u001b[0m 2ms/step - accuracy: 0.9915 - loss: 0.0312\n",
      "Epoch 25: val_accuracy improved from 0.97150 to 0.97300, saving model to C:\\Users\\chxss\\OneDrive\\Desktop\\AiSchool\\python\\ML\\DeepLearning\\model\\model_25_0.973.keras\n",
      "\u001b[1m750/750\u001b[0m \u001b[32m━━━━━━━━━━━━━━━━━━━━\u001b[0m\u001b[37m\u001b[0m \u001b[1m2s\u001b[0m 3ms/step - accuracy: 0.9915 - loss: 0.0312 - val_accuracy: 0.9730 - val_loss: 0.1605\n",
      "Epoch 26/100\n",
      "\u001b[1m733/750\u001b[0m \u001b[32m━━━━━━━━━━━━━━━━━━━\u001b[0m\u001b[37m━\u001b[0m \u001b[1m0s\u001b[0m 3ms/step - accuracy: 0.9924 - loss: 0.0286\n",
      "Epoch 26: val_accuracy did not improve from 0.97300\n",
      "\u001b[1m750/750\u001b[0m \u001b[32m━━━━━━━━━━━━━━━━━━━━\u001b[0m\u001b[37m\u001b[0m \u001b[1m2s\u001b[0m 3ms/step - accuracy: 0.9924 - loss: 0.0286 - val_accuracy: 0.9726 - val_loss: 0.1579\n",
      "Epoch 27/100\n",
      "\u001b[1m736/750\u001b[0m \u001b[32m━━━━━━━━━━━━━━━━━━━\u001b[0m\u001b[37m━\u001b[0m \u001b[1m0s\u001b[0m 3ms/step - accuracy: 0.9920 - loss: 0.0274\n",
      "Epoch 27: val_accuracy did not improve from 0.97300\n",
      "\u001b[1m750/750\u001b[0m \u001b[32m━━━━━━━━━━━━━━━━━━━━\u001b[0m\u001b[37m\u001b[0m \u001b[1m3s\u001b[0m 3ms/step - accuracy: 0.9920 - loss: 0.0274 - val_accuracy: 0.9718 - val_loss: 0.1615\n",
      "Epoch 28/100\n",
      "\u001b[1m742/750\u001b[0m \u001b[32m━━━━━━━━━━━━━━━━━━━\u001b[0m\u001b[37m━\u001b[0m \u001b[1m0s\u001b[0m 2ms/step - accuracy: 0.9935 - loss: 0.0229\n",
      "Epoch 28: val_accuracy did not improve from 0.97300\n",
      "\u001b[1m750/750\u001b[0m \u001b[32m━━━━━━━━━━━━━━━━━━━━\u001b[0m\u001b[37m\u001b[0m \u001b[1m2s\u001b[0m 3ms/step - accuracy: 0.9935 - loss: 0.0230 - val_accuracy: 0.9710 - val_loss: 0.1761\n",
      "Epoch 29/100\n",
      "\u001b[1m729/750\u001b[0m \u001b[32m━━━━━━━━━━━━━━━━━━━\u001b[0m\u001b[37m━\u001b[0m \u001b[1m0s\u001b[0m 2ms/step - accuracy: 0.9917 - loss: 0.0333\n",
      "Epoch 29: val_accuracy did not improve from 0.97300\n",
      "\u001b[1m750/750\u001b[0m \u001b[32m━━━━━━━━━━━━━━━━━━━━\u001b[0m\u001b[37m\u001b[0m \u001b[1m2s\u001b[0m 3ms/step - accuracy: 0.9917 - loss: 0.0333 - val_accuracy: 0.9720 - val_loss: 0.1744\n",
      "Epoch 30/100\n",
      "\u001b[1m743/750\u001b[0m \u001b[32m━━━━━━━━━━━━━━━━━━━\u001b[0m\u001b[37m━\u001b[0m \u001b[1m0s\u001b[0m 3ms/step - accuracy: 0.9931 - loss: 0.0258\n",
      "Epoch 30: val_accuracy improved from 0.97300 to 0.97350, saving model to C:\\Users\\chxss\\OneDrive\\Desktop\\AiSchool\\python\\ML\\DeepLearning\\model\\model_30_0.974.keras\n",
      "\u001b[1m750/750\u001b[0m \u001b[32m━━━━━━━━━━━━━━━━━━━━\u001b[0m\u001b[37m\u001b[0m \u001b[1m2s\u001b[0m 3ms/step - accuracy: 0.9931 - loss: 0.0258 - val_accuracy: 0.9735 - val_loss: 0.1765\n",
      "Epoch 31/100\n",
      "\u001b[1m740/750\u001b[0m \u001b[32m━━━━━━━━━━━━━━━━━━━\u001b[0m\u001b[37m━\u001b[0m \u001b[1m0s\u001b[0m 3ms/step - accuracy: 0.9925 - loss: 0.0278\n",
      "Epoch 31: val_accuracy did not improve from 0.97350\n",
      "\u001b[1m750/750\u001b[0m \u001b[32m━━━━━━━━━━━━━━━━━━━━\u001b[0m\u001b[37m\u001b[0m \u001b[1m2s\u001b[0m 3ms/step - accuracy: 0.9925 - loss: 0.0279 - val_accuracy: 0.9697 - val_loss: 0.1676\n",
      "Epoch 32/100\n",
      "\u001b[1m730/750\u001b[0m \u001b[32m━━━━━━━━━━━━━━━━━━━\u001b[0m\u001b[37m━\u001b[0m \u001b[1m0s\u001b[0m 2ms/step - accuracy: 0.9920 - loss: 0.0335\n",
      "Epoch 32: val_accuracy did not improve from 0.97350\n",
      "\u001b[1m750/750\u001b[0m \u001b[32m━━━━━━━━━━━━━━━━━━━━\u001b[0m\u001b[37m\u001b[0m \u001b[1m2s\u001b[0m 3ms/step - accuracy: 0.9920 - loss: 0.0334 - val_accuracy: 0.9695 - val_loss: 0.2039\n",
      "Epoch 33/100\n",
      "\u001b[1m730/750\u001b[0m \u001b[32m━━━━━━━━━━━━━━━━━━━\u001b[0m\u001b[37m━\u001b[0m \u001b[1m0s\u001b[0m 2ms/step - accuracy: 0.9944 - loss: 0.0208\n",
      "Epoch 33: val_accuracy did not improve from 0.97350\n",
      "\u001b[1m750/750\u001b[0m \u001b[32m━━━━━━━━━━━━━━━━━━━━\u001b[0m\u001b[37m\u001b[0m \u001b[1m2s\u001b[0m 3ms/step - accuracy: 0.9944 - loss: 0.0208 - val_accuracy: 0.9727 - val_loss: 0.1937\n",
      "Epoch 34/100\n",
      "\u001b[1m747/750\u001b[0m \u001b[32m━━━━━━━━━━━━━━━━━━━\u001b[0m\u001b[37m━\u001b[0m \u001b[1m0s\u001b[0m 3ms/step - accuracy: 0.9942 - loss: 0.0216\n",
      "Epoch 34: val_accuracy did not improve from 0.97350\n",
      "\u001b[1m750/750\u001b[0m \u001b[32m━━━━━━━━━━━━━━━━━━━━\u001b[0m\u001b[37m\u001b[0m \u001b[1m2s\u001b[0m 3ms/step - accuracy: 0.9942 - loss: 0.0216 - val_accuracy: 0.9723 - val_loss: 0.1889\n",
      "Epoch 35/100\n",
      "\u001b[1m746/750\u001b[0m \u001b[32m━━━━━━━━━━━━━━━━━━━\u001b[0m\u001b[37m━\u001b[0m \u001b[1m0s\u001b[0m 2ms/step - accuracy: 0.9953 - loss: 0.0176\n",
      "Epoch 35: val_accuracy did not improve from 0.97350\n",
      "\u001b[1m750/750\u001b[0m \u001b[32m━━━━━━━━━━━━━━━━━━━━\u001b[0m\u001b[37m\u001b[0m \u001b[1m2s\u001b[0m 3ms/step - accuracy: 0.9953 - loss: 0.0176 - val_accuracy: 0.9723 - val_loss: 0.2329\n",
      "Epoch 36/100\n",
      "\u001b[1m742/750\u001b[0m \u001b[32m━━━━━━━━━━━━━━━━━━━\u001b[0m\u001b[37m━\u001b[0m \u001b[1m0s\u001b[0m 2ms/step - accuracy: 0.9940 - loss: 0.0274\n",
      "Epoch 36: val_accuracy did not improve from 0.97350\n",
      "\u001b[1m750/750\u001b[0m \u001b[32m━━━━━━━━━━━━━━━━━━━━\u001b[0m\u001b[37m\u001b[0m \u001b[1m2s\u001b[0m 3ms/step - accuracy: 0.9940 - loss: 0.0274 - val_accuracy: 0.9722 - val_loss: 0.1801\n",
      "Epoch 37/100\n",
      "\u001b[1m744/750\u001b[0m \u001b[32m━━━━━━━━━━━━━━━━━━━\u001b[0m\u001b[37m━\u001b[0m \u001b[1m0s\u001b[0m 2ms/step - accuracy: 0.9958 - loss: 0.0145\n",
      "Epoch 37: val_accuracy did not improve from 0.97350\n",
      "\u001b[1m750/750\u001b[0m \u001b[32m━━━━━━━━━━━━━━━━━━━━\u001b[0m\u001b[37m\u001b[0m \u001b[1m2s\u001b[0m 3ms/step - accuracy: 0.9958 - loss: 0.0145 - val_accuracy: 0.9704 - val_loss: 0.2097\n",
      "Epoch 38/100\n",
      "\u001b[1m739/750\u001b[0m \u001b[32m━━━━━━━━━━━━━━━━━━━\u001b[0m\u001b[37m━\u001b[0m \u001b[1m0s\u001b[0m 3ms/step - accuracy: 0.9936 - loss: 0.0287\n",
      "Epoch 38: val_accuracy improved from 0.97350 to 0.97392, saving model to C:\\Users\\chxss\\OneDrive\\Desktop\\AiSchool\\python\\ML\\DeepLearning\\model\\model_38_0.974.keras\n",
      "\u001b[1m750/750\u001b[0m \u001b[32m━━━━━━━━━━━━━━━━━━━━\u001b[0m\u001b[37m\u001b[0m \u001b[1m3s\u001b[0m 3ms/step - accuracy: 0.9936 - loss: 0.0286 - val_accuracy: 0.9739 - val_loss: 0.1827\n",
      "Epoch 39/100\n",
      "\u001b[1m742/750\u001b[0m \u001b[32m━━━━━━━━━━━━━━━━━━━\u001b[0m\u001b[37m━\u001b[0m \u001b[1m0s\u001b[0m 3ms/step - accuracy: 0.9946 - loss: 0.0241\n",
      "Epoch 39: val_accuracy did not improve from 0.97392\n",
      "\u001b[1m750/750\u001b[0m \u001b[32m━━━━━━━━━━━━━━━━━━━━\u001b[0m\u001b[37m\u001b[0m \u001b[1m3s\u001b[0m 3ms/step - accuracy: 0.9946 - loss: 0.0241 - val_accuracy: 0.9732 - val_loss: 0.2117\n",
      "Epoch 40/100\n",
      "\u001b[1m736/750\u001b[0m \u001b[32m━━━━━━━━━━━━━━━━━━━\u001b[0m\u001b[37m━\u001b[0m \u001b[1m0s\u001b[0m 3ms/step - accuracy: 0.9968 - loss: 0.0130\n",
      "Epoch 40: val_accuracy did not improve from 0.97392\n",
      "\u001b[1m750/750\u001b[0m \u001b[32m━━━━━━━━━━━━━━━━━━━━\u001b[0m\u001b[37m\u001b[0m \u001b[1m2s\u001b[0m 3ms/step - accuracy: 0.9968 - loss: 0.0131 - val_accuracy: 0.9703 - val_loss: 0.2002\n",
      "Epoch 41/100\n",
      "\u001b[1m745/750\u001b[0m \u001b[32m━━━━━━━━━━━━━━━━━━━\u001b[0m\u001b[37m━\u001b[0m \u001b[1m0s\u001b[0m 3ms/step - accuracy: 0.9938 - loss: 0.0275\n",
      "Epoch 41: val_accuracy did not improve from 0.97392\n",
      "\u001b[1m750/750\u001b[0m \u001b[32m━━━━━━━━━━━━━━━━━━━━\u001b[0m\u001b[37m\u001b[0m \u001b[1m3s\u001b[0m 3ms/step - accuracy: 0.9938 - loss: 0.0275 - val_accuracy: 0.9672 - val_loss: 0.2136\n",
      "Epoch 42/100\n",
      "\u001b[1m738/750\u001b[0m \u001b[32m━━━━━━━━━━━━━━━━━━━\u001b[0m\u001b[37m━\u001b[0m \u001b[1m0s\u001b[0m 2ms/step - accuracy: 0.9950 - loss: 0.0193\n",
      "Epoch 42: val_accuracy did not improve from 0.97392\n",
      "\u001b[1m750/750\u001b[0m \u001b[32m━━━━━━━━━━━━━━━━━━━━\u001b[0m\u001b[37m\u001b[0m \u001b[1m2s\u001b[0m 3ms/step - accuracy: 0.9950 - loss: 0.0194 - val_accuracy: 0.9722 - val_loss: 0.2050\n",
      "Epoch 43/100\n",
      "\u001b[1m743/750\u001b[0m \u001b[32m━━━━━━━━━━━━━━━━━━━\u001b[0m\u001b[37m━\u001b[0m \u001b[1m0s\u001b[0m 3ms/step - accuracy: 0.9953 - loss: 0.0190\n",
      "Epoch 43: val_accuracy did not improve from 0.97392\n",
      "\u001b[1m750/750\u001b[0m \u001b[32m━━━━━━━━━━━━━━━━━━━━\u001b[0m\u001b[37m\u001b[0m \u001b[1m3s\u001b[0m 3ms/step - accuracy: 0.9953 - loss: 0.0190 - val_accuracy: 0.9697 - val_loss: 0.2497\n",
      "Epoch 44/100\n",
      "\u001b[1m743/750\u001b[0m \u001b[32m━━━━━━━━━━━━━━━━━━━\u001b[0m\u001b[37m━\u001b[0m \u001b[1m0s\u001b[0m 3ms/step - accuracy: 0.9934 - loss: 0.0275\n",
      "Epoch 44: val_accuracy did not improve from 0.97392\n",
      "\u001b[1m750/750\u001b[0m \u001b[32m━━━━━━━━━━━━━━━━━━━━\u001b[0m\u001b[37m\u001b[0m \u001b[1m2s\u001b[0m 3ms/step - accuracy: 0.9934 - loss: 0.0275 - val_accuracy: 0.9727 - val_loss: 0.1823\n",
      "Epoch 45/100\n",
      "\u001b[1m741/750\u001b[0m \u001b[32m━━━━━━━━━━━━━━━━━━━\u001b[0m\u001b[37m━\u001b[0m \u001b[1m0s\u001b[0m 2ms/step - accuracy: 0.9966 - loss: 0.0148\n",
      "Epoch 45: val_accuracy did not improve from 0.97392\n",
      "\u001b[1m750/750\u001b[0m \u001b[32m━━━━━━━━━━━━━━━━━━━━\u001b[0m\u001b[37m\u001b[0m \u001b[1m3s\u001b[0m 3ms/step - accuracy: 0.9966 - loss: 0.0149 - val_accuracy: 0.9697 - val_loss: 0.2184\n",
      "Epoch 46/100\n",
      "\u001b[1m749/750\u001b[0m \u001b[32m━━━━━━━━━━━━━━━━━━━\u001b[0m\u001b[37m━\u001b[0m \u001b[1m0s\u001b[0m 3ms/step - accuracy: 0.9943 - loss: 0.0256\n",
      "Epoch 46: val_accuracy did not improve from 0.97392\n",
      "\u001b[1m750/750\u001b[0m \u001b[32m━━━━━━━━━━━━━━━━━━━━\u001b[0m\u001b[37m\u001b[0m \u001b[1m3s\u001b[0m 3ms/step - accuracy: 0.9943 - loss: 0.0256 - val_accuracy: 0.9709 - val_loss: 0.2111\n",
      "Epoch 47/100\n",
      "\u001b[1m750/750\u001b[0m \u001b[32m━━━━━━━━━━━━━━━━━━━━\u001b[0m\u001b[37m\u001b[0m \u001b[1m0s\u001b[0m 3ms/step - accuracy: 0.9968 - loss: 0.0127\n",
      "Epoch 47: val_accuracy did not improve from 0.97392\n",
      "\u001b[1m750/750\u001b[0m \u001b[32m━━━━━━━━━━━━━━━━━━━━\u001b[0m\u001b[37m\u001b[0m \u001b[1m3s\u001b[0m 4ms/step - accuracy: 0.9968 - loss: 0.0127 - val_accuracy: 0.9680 - val_loss: 0.2630\n",
      "Epoch 48/100\n",
      "\u001b[1m742/750\u001b[0m \u001b[32m━━━━━━━━━━━━━━━━━━━\u001b[0m\u001b[37m━\u001b[0m \u001b[1m0s\u001b[0m 3ms/step - accuracy: 0.9957 - loss: 0.0184\n",
      "Epoch 48: val_accuracy did not improve from 0.97392\n",
      "\u001b[1m750/750\u001b[0m \u001b[32m━━━━━━━━━━━━━━━━━━━━\u001b[0m\u001b[37m\u001b[0m \u001b[1m5s\u001b[0m 4ms/step - accuracy: 0.9957 - loss: 0.0184 - val_accuracy: 0.9723 - val_loss: 0.2101\n",
      "Epoch 48: early stopping\n"
     ]
    }
   ],
   "source": [
    "# 데이터 불러오기\n",
    "from tensorflow.keras.datasets import mnist\n",
    "(X_train, y_train), (X_test, y_test) = mnist.load_data()\n",
    "# relu + adam 모델 설계\n",
    "from tensorflow.keras.models import Sequential\n",
    "from tensorflow.keras.layers import Dense, InputLayer, Flatten\n",
    "from tensorflow.keras.optimizers import SGD, Adam # 최적화 함수 클래스\n",
    "model3 = Sequential()\n",
    "model3.add(InputLayer(shape=(28,28)))\n",
    "model3.add(Flatten())\n",
    "model3.add(Dense(units=64, activation='relu'))\n",
    "model3.add(Dense(units=128, activation='relu'))\n",
    "model3.add(Dense(units=256, activation='relu'))\n",
    "model3.add(Dense(units=128, activation='relu'))\n",
    "model3.add(Dense(units=64, activation='relu'))\n",
    "model3.add(Dense(units=10, activation='softmax'))\n",
    "# 학습방법 설정\n",
    "model3.compile(loss='sparse_categorical_crossentropy',\n",
    "                optimizer=Adam(), # 확률적 경사하강법\n",
    "                # Adam 기본학률 :0.001\n",
    "                metrics=['accuracy'])\n",
    "# 모델학습\n",
    "h3 = model3.fit(X_train, y_train, validation_split=0.2, epochs=100, batch_size=64, callbacks = [mcp,early])\n",
    "\n",
    "# epochs = 10\n"
   ]
  },
  {
   "cell_type": "markdown",
   "metadata": {},
   "source": [
    "### 새로운 test데이터를 만들어서(직접 손글씨 만들기) 저장된 모델을 불러와서 평가"
   ]
  },
  {
   "cell_type": "code",
   "execution_count": 15,
   "metadata": {},
   "outputs": [
    {
     "data": {
      "text/plain": [
       "<matplotlib.image.AxesImage at 0x201d75d5160>"
      ]
     },
     "execution_count": 15,
     "metadata": {},
     "output_type": "execute_result"
    },
    {
     "data": {
      "image/png": "[encoded data removed]",
      "text/plain": [
       "<Figure size 640x480 with 1 Axes>"
      ]
     },
     "metadata": {},
     "output_type": "display_data"
    }
   ],
   "source": [
    "# 직접 작성한 손글씨 숫자 불러오기\n",
    "import PIL.Image as pimg\n",
    "import numpy as np\n",
    "import matplotlib.pyplot as plt\n",
    "\n",
    "# .convert('L') : 컬러이미지를 흑백이미지로 변환\n",
    "img = pimg.open(r'C:\\Users\\chxss\\OneDrive\\Desktop\\AiSchool\\python\\ML\\DeepLearning\\data\\0.png').convert('L') \n",
    "plt.imshow(img, cmap='gray')"
   ]
  },
  {
   "cell_type": "code",
   "execution_count": 17,
   "metadata": {},
   "outputs": [
    {
     "data": {
      "text/plain": [
       "(28, 28)"
      ]
     },
     "execution_count": 17,
     "metadata": {},
     "output_type": "execute_result"
    }
   ],
   "source": [
    "# 전처리\n",
    "# 이미지데이터 -> 배열로 변환\n",
    "img = np.array(img)\n",
    "img.shape"
   ]
  },
  {
   "cell_type": "code",
   "execution_count": 18,
   "metadata": {},
   "outputs": [],
   "source": [
    "# 훈련데이터에 진행했던 Flatten 작업진행\n",
    "# 2차원 -> 1차원\n",
    "# (데이터개수1개, 행,열, 색상차원(흑백1))\n",
    "test_img = img.reshape(1,28,28,1)\n",
    "test_img = test_img.astype('float32')/255"
   ]
  },
  {
   "cell_type": "code",
   "execution_count": 35,
   "metadata": {},
   "outputs": [],
   "source": [
    "# 저장한 모델 불러와서 예측\n",
    "from tensorflow.keras.models import load_model\n",
    "best_model = load_model(r'C:\\Users\\chxss\\OneDrive\\Desktop\\AiSchool\\python\\ML\\DeepLearning\\model\\model_15_0.969.keras')"
   ]
  },
  {
   "cell_type": "code",
   "execution_count": 20,
   "metadata": {},
   "outputs": [
    {
     "name": "stdout",
     "output_type": "stream",
     "text": [
      "\u001b[1m1/1\u001b[0m \u001b[32m━━━━━━━━━━━━━━━━━━━━\u001b[0m\u001b[37m\u001b[0m \u001b[1m0s\u001b[0m 144ms/step\n"
     ]
    },
    {
     "data": {
      "text/plain": [
       "array([[0.09829033, 0.0914101 , 0.09017017, 0.08599474, 0.09750927,\n",
       "        0.09312163, 0.08082093, 0.1015115 , 0.14650975, 0.11466155]],\n",
       "      dtype=float32)"
      ]
     },
     "execution_count": 20,
     "metadata": {},
     "output_type": "execute_result"
    }
   ],
   "source": [
    "# 예측\n",
    "best_model.predict(test_img)"
   ]
  },
  {
   "cell_type": "code",
   "execution_count": 21,
   "metadata": {},
   "outputs": [
    {
     "name": "stdout",
     "output_type": "stream",
     "text": [
      "\u001b[1m1/1\u001b[0m \u001b[32m━━━━━━━━━━━━━━━━━━━━\u001b[0m\u001b[37m\u001b[0m \u001b[1m0s\u001b[0m 32ms/step\n"
     ]
    },
    {
     "data": {
      "text/plain": [
       "8"
      ]
     },
     "execution_count": 21,
     "metadata": {},
     "output_type": "execute_result"
    }
   ],
   "source": [
    "# 최종 예측값만 보고싶다면?\n",
    "best_model.predict(test_img).argmax()"
   ]
  },
  {
   "cell_type": "code",
   "execution_count": 37,
   "metadata": {},
   "outputs": [
    {
     "name": "stdout",
     "output_type": "stream",
     "text": [
      "\u001b[1m1/1\u001b[0m \u001b[32m━━━━━━━━━━━━━━━━━━━━\u001b[0m\u001b[37m\u001b[0m \u001b[1m0s\u001b[0m 74ms/step\n"
     ]
    },
    {
     "data": {
      "text/plain": [
       "8"
      ]
     },
     "execution_count": 37,
     "metadata": {},
     "output_type": "execute_result"
    },
    {
     "data": {
      "image/png": "[encoded data removed]",
      "text/plain": [
       "<Figure size 640x480 with 1 Axes>"
      ]
     },
     "metadata": {},
     "output_type": "display_data"
    }
   ],
   "source": [
    "# .convert('L') : 컬러이미지를 흑백이미지로 변환\n",
    "img1 = pimg.open(r'C:\\Users\\chxss\\OneDrive\\Desktop\\AiSchool\\python\\ML\\DeepLearning\\data\\1.png').convert('L') \n",
    "plt.imshow(img1, cmap='gray')\n",
    "# 전처리\n",
    "# 이미지데이터 -> 배열로 변환\n",
    "img1 = np.array(img1)\n",
    "img1.shape\n",
    "# 훈련데이터에 진행했던 Flatten 작업진행\n",
    "# 2차원 -> 1차원\n",
    "# (데이터개수1개, 행,열, 색상차원(흑백1))\n",
    "test_img1 = img1.reshape(1,28,28,1)\n",
    "test_img1 = test_img1.astype('float32')/255\n",
    "# 최종 예측값만 보고싶다면?\n",
    "best_model.predict(test_img1).argmax()"
   ]
  },
  {
   "cell_type": "code",
   "execution_count": null,
   "metadata": {},
   "outputs": [],
   "source": []
  },
  {
   "cell_type": "code",
   "execution_count": null,
   "metadata": {},
   "outputs": [],
   "source": []
  },
  {
   "cell_type": "code",
   "execution_count": null,
   "metadata": {},
   "outputs": [],
   "source": []
  },
  {
   "cell_type": "code",
   "execution_count": null,
   "metadata": {},
   "outputs": [],
   "source": []
  },
  {
   "cell_type": "code",
   "execution_count": null,
   "metadata": {},
   "outputs": [],
   "source": []
  },
  {
   "cell_type": "code",
   "execution_count": null,
   "metadata": {},
   "outputs": [],
   "source": []
  },
  {
   "cell_type": "code",
   "execution_count": null,
   "metadata": {},
   "outputs": [],
   "source": []
  },
  {
   "cell_type": "code",
   "execution_count": null,
   "metadata": {},
   "outputs": [],
   "source": []
  },
  {
   "cell_type": "code",
   "execution_count": null,
   "metadata": {},
   "outputs": [],
   "source": []
  },
  {
   "cell_type": "code",
   "execution_count": null,
   "metadata": {},
   "outputs": [],
   "source": []
  },
  {
   "cell_type": "code",
   "execution_count": null,
   "metadata": {},
   "outputs": [],
   "source": []
  },
  {
   "cell_type": "code",
   "execution_count": null,
   "metadata": {},
   "outputs": [],
   "source": []
  },
  {
   "cell_type": "code",
   "execution_count": null,
   "metadata": {},
   "outputs": [],
   "source": []
  },
  {
   "cell_type": "code",
   "execution_count": null,
   "metadata": {},
   "outputs": [],
   "source": []
  },
  {
   "cell_type": "code",
   "execution_count": null,
   "metadata": {},
   "outputs": [],
   "source": []
  },
  {
   "cell_type": "code",
   "execution_count": null,
   "metadata": {},
   "outputs": [],
   "source": []
  },
  {
   "cell_type": "code",
   "execution_count": null,
   "metadata": {},
   "outputs": [],
   "source": []
  },
  {
   "cell_type": "code",
   "execution_count": null,
   "metadata": {},
   "outputs": [],
   "source": []
  },
  {
   "cell_type": "code",
   "execution_count": null,
   "metadata": {},
   "outputs": [],
   "source": []
  }
 ],
 "metadata": {
  "kernelspec": {
   "display_name": "Python 3",
   "language": "python",
   "name": "python3"
  },
  "language_info": {
   "codemirror_mode": {
    "name": "ipython",
    "version": 3
   },
   "file_extension": ".py",
   "mimetype": "text/x-python",
   "name": "python",
   "nbconvert_exporter": "python",
   "pygments_lexer": "ipython3",
   "version": "3.12.3"
  }
 },
 "nbformat": 4,
 "nbformat_minor": 2
}
