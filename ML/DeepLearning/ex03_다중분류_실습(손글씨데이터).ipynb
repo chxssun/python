{
 "cells": [
  {
   "cell_type": "markdown",
   "metadata": {},
   "source": [
    "### 학습목표\n",
    "- 손글씨 데이터를 분류하는 딥러닝 모델 설계\n",
    "- 다중분류 딥러닝 설계\n",
    "    - 0~9까지 손글씨 데이터를 학습, 예측\n",
    "    - 10개의 class를 가진다"
   ]
  },
  {
   "cell_type": "code",
   "execution_count": 56,
   "metadata": {},
   "outputs": [],
   "source": [
    "# 기본라이브러리 불러오기\n",
    "import numpy as np\n",
    "import pandas as pd\n",
    "import matplotlib.pyplot as plt"
   ]
  },
  {
   "cell_type": "code",
   "execution_count": 57,
   "metadata": {},
   "outputs": [],
   "source": [
    "# 데이터 불러오기\n",
    "# keras에서 제공해주는 손글씨 데이터 불러오기\n",
    "from tensorflow.keras.datasets import mnist"
   ]
  },
  {
   "cell_type": "code",
   "execution_count": 58,
   "metadata": {},
   "outputs": [],
   "source": [
    "# 훈련용, 테스트용 데이터로 이미 나누어져 들어가 있음\n",
    "# 바로 변수에 대입\n",
    "(X_train,y_train),(X_test, y_test) = mnist.load_data()"
   ]
  },
  {
   "cell_type": "code",
   "execution_count": 59,
   "metadata": {},
   "outputs": [],
   "source": [
    "a,b,c,d = 1,2,3,4"
   ]
  },
  {
   "cell_type": "code",
   "execution_count": 60,
   "metadata": {},
   "outputs": [],
   "source": [
    "a=b=c=4"
   ]
  },
  {
   "cell_type": "code",
   "execution_count": 61,
   "metadata": {},
   "outputs": [
    {
     "data": {
      "text/plain": [
       "((60000, 28, 28), (60000,))"
      ]
     },
     "execution_count": 61,
     "metadata": {},
     "output_type": "execute_result"
    }
   ],
   "source": [
    "# 데이터 크기확인\n",
    "X_train.shape, y_train.shape\n",
    "# 총 6만개의 학습데이터\n",
    "# 28*28 픽셀을 가지는 데이터\n",
    "# 픽셀 : 사진의 정보를 가지는 최소단위"
   ]
  },
  {
   "cell_type": "code",
   "execution_count": 62,
   "metadata": {},
   "outputs": [
    {
     "data": {
      "text/plain": [
       "((10000, 28, 28), (10000,))"
      ]
     },
     "execution_count": 62,
     "metadata": {},
     "output_type": "execute_result"
    }
   ],
   "source": [
    "# 테스트데이터 크기확인\n",
    "X_test.shape, y_test.shape"
   ]
  },
  {
   "cell_type": "code",
   "execution_count": 63,
   "metadata": {},
   "outputs": [
    {
     "data": {
      "text/plain": [
       "array([0, 1, 2, 3, 4, 5, 6, 7, 8, 9], dtype=uint8)"
      ]
     },
     "execution_count": 63,
     "metadata": {},
     "output_type": "execute_result"
    }
   ],
   "source": [
    "# 정답데이터의 종류 확인\n",
    "np.unique(y_train)"
   ]
  },
  {
   "cell_type": "code",
   "execution_count": 64,
   "metadata": {},
   "outputs": [
    {
     "name": "stdout",
     "output_type": "stream",
     "text": [
      "3\n"
     ]
    },
    {
     "data": {
      "image/png": "[encoded data removed]",
      "text/plain": [
       "<Figure size 640x480 with 1 Axes>"
      ]
     },
     "metadata": {},
     "output_type": "display_data"
    }
   ],
   "source": [
    "# 문제데이터 -> 손글씨데이터 확인\n",
    "plt.imshow(X_train[0], cmap='gray')\n",
    "# 흑백사진\n",
    "# 얼마나 검정인가 흰색인가에 대한 정보를 가지는 데이터\n",
    "# 0: 검은색, 255: 흰색\n",
    "print(y_train[10000])"
   ]
  },
  {
   "cell_type": "code",
   "execution_count": null,
   "metadata": {},
   "outputs": [],
   "source": []
  },
  {
   "cell_type": "markdown",
   "metadata": {},
   "source": [
    "### MLP모델링\n",
    "- 입력층의 구조, 출려긍의 구조 설계\n",
    "- 학습능력을 위한 중간층의 깊이 고혀\n",
    "- loss, optimizer 설정\n",
    "- 학습결과 시각화"
   ]
  },
  {
   "cell_type": "code",
   "execution_count": 65,
   "metadata": {},
   "outputs": [],
   "source": [
    "from tensorflow.keras.models import Sequential\n",
    "from tensorflow.keras.layers import Dense, InputLayer, Flatten\n",
    "# Flatten : 2차원의 사진데이터를 선형모델이 처리할 수 있는 1차원 데이터 변경\n",
    "# 현재 우리의 데이터 2차원(28*28) -> 1차원"
   ]
  },
  {
   "cell_type": "code",
   "execution_count": 66,
   "metadata": {},
   "outputs": [],
   "source": [
    "# 신경망 모델 설계\n",
    "# 뼈대 생성\n",
    "model = Sequential()\n",
    "# 입력층 설계\n",
    "model.add(InputLayer(shape=(28,28))) # 28*28의 2차원 데이터\n",
    "model.add(Flatten()) # 2차원 형태의 사진데이터를 1차원 변경(선형모델학습을 위함)\n",
    "# 중간층(은닉층)\n",
    "model.add(Dense(units=8, activation='sigmoid'))\n",
    "model.add(Dense(units=16, activation='sigmoid'))\n",
    "model.add(Dense(units=8, activation='sigmoid'))\n",
    "# 출력층 -> 출력데이터의 형태 지정(다중분류)\n",
    "model.add(Dense(units=10, activation=\"softmax\"))\n",
    "# 출력층에서의 활성화 함수의 역할 : 출력데이터의 형태 변경\n",
    "# 분류: 확률값을 출력\n",
    "# 다중분류 -> 클래스 개수만큼의 확률값이 출력\n",
    "# softmax함수 : 클래스의 개수만큼의 결과 값이 출력 -> 총합 1인 확률로 변경"
   ]
  },
  {
   "cell_type": "markdown",
   "metadata": {},
   "source": [
    "##### 정리(예측데이터에 따른 출력층 구성)\n",
    "- 회귀 (1개의 연속값)\n",
    "    - units = 1, activation = 'Linear'\n",
    "- 이진분류 (1개의 확률값 -> 0~1)\n",
    "    - units = 1, activation ='sigmoid'\n",
    "- 다중분류 (클래스 개수의 확률값 -> 총합이 1)\n",
    "    - units = 클래스 개수, activation ='softmax'"
   ]
  },
  {
   "cell_type": "code",
   "execution_count": 67,
   "metadata": {},
   "outputs": [],
   "source": [
    "# 모델 학습방법 및 평가 방법 설정\n",
    "model.compile(loss=\"categorical_crossentropy\",\n",
    "                optimizer='adam',\n",
    "                metrics=['accuracy'])"
   ]
  },
  {
   "cell_type": "markdown",
   "metadata": {},
   "source": [
    "##### 정리 (학습방법 및 평가방법 설정)\n",
    "- loss : 학습과정 중 모델의 잘못된 정도를 측정하는 수치\n",
    "    - 회귀 : mse\n",
    "    - 이진분류 : binary_crossentropy\n",
    "    - 다중분류 : categorical_crossentropy\n",
    "- optimizer : 최적화 함수 -> w,b을 최적화해 나가는 알고리듬\n",
    "    - 종류가 다양함\n",
    "    - SGD, adam, momentum ...등\n",
    "    - 각 함수들의 특징 수업 예정\n",
    "- metrics : 평가지표\n",
    "    - 분류 : 정확도(accuracy)\n",
    "    - 회귀 : mse (평균제곱오차)"
   ]
  },
  {
   "cell_type": "code",
   "execution_count": 68,
   "metadata": {},
   "outputs": [],
   "source": [
    "# 모델 학습\n",
    "# model.fit(X_train, y_train,validation_split=0.2,epochs=20)\n",
    "# 문제 발생!\n",
    "# 오류를 확인해보니 -> 정답데이터의 shape 가 일치하지 않음!\n",
    "# shape 가 다르면 학습이 불가\n",
    "# y_train 데이터를 확인해보니 1개의 결과값(클래스중 1개를 출력)\n",
    "# 모델링 출력결과 : 10개 클래스에 대한 확률값"
   ]
  },
  {
   "cell_type": "code",
   "execution_count": 69,
   "metadata": {},
   "outputs": [
    {
     "data": {
      "text/plain": [
       "5"
      ]
     },
     "execution_count": 69,
     "metadata": {},
     "output_type": "execute_result"
    }
   ],
   "source": [
    "y_train[0]"
   ]
  },
  {
   "cell_type": "code",
   "execution_count": 70,
   "metadata": {},
   "outputs": [],
   "source": [
    "# 해결방법 2가지\n",
    "# [방법 1 : 1개의 정답데이터의 형태를 10개의 확률값으로 변경]"
   ]
  },
  {
   "cell_type": "code",
   "execution_count": 71,
   "metadata": {},
   "outputs": [
    {
     "data": {
      "text/plain": [
       "(60000, 10)"
      ]
     },
     "execution_count": 71,
     "metadata": {},
     "output_type": "execute_result"
    }
   ],
   "source": [
    "# [방법 1 : 1개의 정답데이터의 형태를 10개의 확률값으로 변경]\n",
    "from tensorflow.keras.utils import to_categorical\n",
    "cate_y_train = to_categorical(y_train)\n",
    "# 범주형 정답데이터를 확률값으로 변경해줌\n",
    "cate_y_train.shape"
   ]
  },
  {
   "cell_type": "code",
   "execution_count": 72,
   "metadata": {},
   "outputs": [
    {
     "data": {
      "text/plain": [
       "array([[0., 0., 0., 0., 0., 1., 0., 0., 0., 0.],\n",
       "       [1., 0., 0., 0., 0., 0., 0., 0., 0., 0.]])"
      ]
     },
     "execution_count": 72,
     "metadata": {},
     "output_type": "execute_result"
    }
   ],
   "source": [
    "cate_y_train[0:2]"
   ]
  },
  {
   "cell_type": "code",
   "execution_count": 73,
   "metadata": {},
   "outputs": [
    {
     "name": "stdout",
     "output_type": "stream",
     "text": [
      "Epoch 1/20\n",
      "\u001b[1m1500/1500\u001b[0m \u001b[32m━━━━━━━━━━━━━━━━━━━━\u001b[0m\u001b[37m\u001b[0m \u001b[1m3s\u001b[0m 1ms/step - accuracy: 0.1958 - loss: 2.1999 - val_accuracy: 0.3664 - val_loss: 1.6592\n",
      "Epoch 2/20\n",
      "\u001b[1m1500/1500\u001b[0m \u001b[32m━━━━━━━━━━━━━━━━━━━━\u001b[0m\u001b[37m\u001b[0m \u001b[1m2s\u001b[0m 1ms/step - accuracy: 0.3933 - loss: 1.5953 - val_accuracy: 0.5332 - val_loss: 1.4382\n",
      "Epoch 3/20\n",
      "\u001b[1m1500/1500\u001b[0m \u001b[32m━━━━━━━━━━━━━━━━━━━━\u001b[0m\u001b[37m\u001b[0m \u001b[1m2s\u001b[0m 1000us/step - accuracy: 0.5539 - loss: 1.3797 - val_accuracy: 0.6302 - val_loss: 1.1938\n",
      "Epoch 4/20\n",
      "\u001b[1m1500/1500\u001b[0m \u001b[32m━━━━━━━━━━━━━━━━━━━━\u001b[0m\u001b[37m\u001b[0m \u001b[1m1s\u001b[0m 975us/step - accuracy: 0.6335 - loss: 1.1547 - val_accuracy: 0.6779 - val_loss: 1.0039\n",
      "Epoch 5/20\n",
      "\u001b[1m1500/1500\u001b[0m \u001b[32m━━━━━━━━━━━━━━━━━━━━\u001b[0m\u001b[37m\u001b[0m \u001b[1m2s\u001b[0m 1ms/step - accuracy: 0.6828 - loss: 0.9981 - val_accuracy: 0.7228 - val_loss: 0.8692\n",
      "Epoch 6/20\n",
      "\u001b[1m1500/1500\u001b[0m \u001b[32m━━━━━━━━━━━━━━━━━━━━\u001b[0m\u001b[37m\u001b[0m \u001b[1m2s\u001b[0m 1ms/step - accuracy: 0.7049 - loss: 0.8917 - val_accuracy: 0.6986 - val_loss: 0.9028\n",
      "Epoch 7/20\n",
      "\u001b[1m1500/1500\u001b[0m \u001b[32m━━━━━━━━━━━━━━━━━━━━\u001b[0m\u001b[37m\u001b[0m \u001b[1m1s\u001b[0m 959us/step - accuracy: 0.7145 - loss: 0.8649 - val_accuracy: 0.7770 - val_loss: 0.7754\n",
      "Epoch 8/20\n",
      "\u001b[1m1500/1500\u001b[0m \u001b[32m━━━━━━━━━━━━━━━━━━━━\u001b[0m\u001b[37m\u001b[0m \u001b[1m2s\u001b[0m 987us/step - accuracy: 0.7471 - loss: 0.8194 - val_accuracy: 0.7926 - val_loss: 0.7212\n",
      "Epoch 9/20\n",
      "\u001b[1m1500/1500\u001b[0m \u001b[32m━━━━━━━━━━━━━━━━━━━━\u001b[0m\u001b[37m\u001b[0m \u001b[1m1s\u001b[0m 953us/step - accuracy: 0.7615 - loss: 0.7762 - val_accuracy: 0.7800 - val_loss: 0.7441\n",
      "Epoch 10/20\n",
      "\u001b[1m1500/1500\u001b[0m \u001b[32m━━━━━━━━━━━━━━━━━━━━\u001b[0m\u001b[37m\u001b[0m \u001b[1m2s\u001b[0m 1ms/step - accuracy: 0.7664 - loss: 0.7553 - val_accuracy: 0.7864 - val_loss: 0.6935\n",
      "Epoch 11/20\n",
      "\u001b[1m1500/1500\u001b[0m \u001b[32m━━━━━━━━━━━━━━━━━━━━\u001b[0m\u001b[37m\u001b[0m \u001b[1m2s\u001b[0m 1ms/step - accuracy: 0.7702 - loss: 0.7382 - val_accuracy: 0.7890 - val_loss: 0.7460\n",
      "Epoch 12/20\n",
      "\u001b[1m1500/1500\u001b[0m \u001b[32m━━━━━━━━━━━━━━━━━━━━\u001b[0m\u001b[37m\u001b[0m \u001b[1m2s\u001b[0m 1ms/step - accuracy: 0.7852 - loss: 0.7077 - val_accuracy: 0.7970 - val_loss: 0.6888\n",
      "Epoch 13/20\n",
      "\u001b[1m1500/1500\u001b[0m \u001b[32m━━━━━━━━━━━━━━━━━━━━\u001b[0m\u001b[37m\u001b[0m \u001b[1m2s\u001b[0m 1ms/step - accuracy: 0.7810 - loss: 0.7041 - val_accuracy: 0.8037 - val_loss: 0.6333\n",
      "Epoch 14/20\n",
      "\u001b[1m1500/1500\u001b[0m \u001b[32m━━━━━━━━━━━━━━━━━━━━\u001b[0m\u001b[37m\u001b[0m \u001b[1m2s\u001b[0m 1ms/step - accuracy: 0.7933 - loss: 0.6663 - val_accuracy: 0.7922 - val_loss: 0.6659\n",
      "Epoch 15/20\n",
      "\u001b[1m1500/1500\u001b[0m \u001b[32m━━━━━━━━━━━━━━━━━━━━\u001b[0m\u001b[37m\u001b[0m \u001b[1m2s\u001b[0m 1ms/step - accuracy: 0.7860 - loss: 0.6730 - val_accuracy: 0.8089 - val_loss: 0.6543\n",
      "Epoch 16/20\n",
      "\u001b[1m1500/1500\u001b[0m \u001b[32m━━━━━━━━━━━━━━━━━━━━\u001b[0m\u001b[37m\u001b[0m \u001b[1m2s\u001b[0m 1ms/step - accuracy: 0.8024 - loss: 0.6477 - val_accuracy: 0.8132 - val_loss: 0.6156\n",
      "Epoch 17/20\n",
      "\u001b[1m1500/1500\u001b[0m \u001b[32m━━━━━━━━━━━━━━━━━━━━\u001b[0m\u001b[37m\u001b[0m \u001b[1m2s\u001b[0m 1ms/step - accuracy: 0.7909 - loss: 0.6594 - val_accuracy: 0.8102 - val_loss: 0.5993\n",
      "Epoch 18/20\n",
      "\u001b[1m1500/1500\u001b[0m \u001b[32m━━━━━━━━━━━━━━━━━━━━\u001b[0m\u001b[37m\u001b[0m \u001b[1m2s\u001b[0m 1ms/step - accuracy: 0.8065 - loss: 0.6359 - val_accuracy: 0.7985 - val_loss: 0.6333\n",
      "Epoch 19/20\n",
      "\u001b[1m1500/1500\u001b[0m \u001b[32m━━━━━━━━━━━━━━━━━━━━\u001b[0m\u001b[37m\u001b[0m \u001b[1m2s\u001b[0m 1ms/step - accuracy: 0.8087 - loss: 0.6171 - val_accuracy: 0.8118 - val_loss: 0.6008\n",
      "Epoch 20/20\n",
      "\u001b[1m1500/1500\u001b[0m \u001b[32m━━━━━━━━━━━━━━━━━━━━\u001b[0m\u001b[37m\u001b[0m \u001b[1m2s\u001b[0m 1ms/step - accuracy: 0.7988 - loss: 0.6314 - val_accuracy: 0.8162 - val_loss: 0.6201\n"
     ]
    }
   ],
   "source": [
    "h = model.fit(X_train, cate_y_train, validation_split=0.2, epochs=20)"
   ]
  },
  {
   "cell_type": "code",
   "execution_count": 74,
   "metadata": {},
   "outputs": [],
   "source": [
    "# [방법2 : complie 학습방법을 정의하는 부분에서 loss = 'sparse_categorical_crossentropy']\n",
    "# sparse를 붙여서 사용 / 더 선호함\n",
    "# 알아서 들어오는 데이터를 확률값으로 변경하여 비교\n",
    "model.compile(loss='sparse_categorical_crossentropy',\n",
    "                optimizer='adam',\n",
    "                metrics=['accuracy'])"
   ]
  },
  {
   "cell_type": "code",
   "execution_count": 75,
   "metadata": {},
   "outputs": [
    {
     "data": {
      "image/png": "[encoded data removed]",
      "text/plain": [
       "<Figure size 640x480 with 1 Axes>"
      ]
     },
     "metadata": {},
     "output_type": "display_data"
    }
   ],
   "source": [
    "# 학습결과 시각화\n",
    "plt.plot(h.history['loss'], label = \"train_loss\")\n",
    "plt.plot(h.history['val_loss'], label = \"val_loss\")\n",
    "plt.legend()\n",
    "plt.show() "
   ]
  },
  {
   "cell_type": "code",
   "execution_count": 76,
   "metadata": {},
   "outputs": [
    {
     "name": "stdout",
     "output_type": "stream",
     "text": [
      "\u001b[1m313/313\u001b[0m \u001b[32m━━━━━━━━━━━━━━━━━━━━\u001b[0m\u001b[37m\u001b[0m \u001b[1m0s\u001b[0m 825us/step - accuracy: 0.7940 - loss: 0.6807\n"
     ]
    },
    {
     "data": {
      "text/plain": [
       "[0.6269389390945435, 0.8176000118255615]"
      ]
     },
     "execution_count": 76,
     "metadata": {},
     "output_type": "execute_result"
    }
   ],
   "source": [
    "# 모델 평가\n",
    "model.evaluate(X_test, y_test)"
   ]
  },
  {
   "cell_type": "code",
   "execution_count": null,
   "metadata": {},
   "outputs": [],
   "source": [
    "# 모델에 대한 전체적인 내부구조 확인\n",
    "modeel.ser"
   ]
  }
 ],
 "metadata": {
  "kernelspec": {
   "display_name": "Python 3",
   "language": "python",
   "name": "python3"
  },
  "language_info": {
   "codemirror_mode": {
    "name": "ipython",
    "version": 3
   },
   "file_extension": ".py",
   "mimetype": "text/x-python",
   "name": "python",
   "nbconvert_exporter": "python",
   "pygments_lexer": "ipython3",
   "version": "3.12.3"
  }
 },
 "nbformat": 4,
 "nbformat_minor": 2
}
